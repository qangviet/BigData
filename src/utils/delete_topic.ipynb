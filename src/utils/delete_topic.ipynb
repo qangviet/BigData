{
 "cells": [
  {
   "cell_type": "code",
   "execution_count": 2,
   "metadata": {},
   "outputs": [],
   "source": [
    "from kafka import KafkaAdminClient\n",
    "from kafka.errors import TopicAlreadyExistsError\n",
    "\n",
    "def delete_kafka_topic(broker, topic_name):\n",
    "    # Tạo một KafkaAdminClient\n",
    "    admin_client = KafkaAdminClient(bootstrap_servers=broker)\n",
    "    try:\n",
    "        # Xóa topic\n",
    "        admin_client.delete_topics([topic_name])\n",
    "        print(f\"Deleted topic: {topic_name}\")\n",
    "    except Exception as e:\n",
    "        print(f\"Error deleting topic: {e}\")\n",
    "    finally:\n",
    "        admin_client.close()\n",
    "\n",
    "# Sử dụng hàm"
   ]
  },
  {
   "cell_type": "code",
   "execution_count": 3,
   "metadata": {},
   "outputs": [
    {
     "name": "stdout",
     "output_type": "stream",
     "text": [
      "Deleted topic: raw_speech_2024_3\n"
     ]
    }
   ],
   "source": [
    "broker = 'localhost:9092'  # Địa chỉ broker Kafka\n",
    "topic_name = 'raw_speech_2024_3'  # Tên topic cần xóa\n",
    "delete_kafka_topic(broker, topic_name)"
   ]
  },
  {
   "cell_type": "code",
   "execution_count": 4,
   "metadata": {},
   "outputs": [
    {
     "name": "stdout",
     "output_type": "stream",
     "text": [
      "Deleted topic: raw_image_2024_3\n"
     ]
    }
   ],
   "source": [
    "delete_kafka_topic(broker, 'raw_image_2024_3')"
   ]
  },
  {
   "cell_type": "code",
   "execution_count": 5,
   "metadata": {},
   "outputs": [
    {
     "name": "stdout",
     "output_type": "stream",
     "text": [
      "Deleted topic: streaming.public.green_trip_raw_2024_3\n"
     ]
    }
   ],
   "source": [
    "delete_kafka_topic(broker, 'streaming.public.green_trip_raw_2024_3')"
   ]
  },
  {
   "cell_type": "code",
   "execution_count": null,
   "metadata": {},
   "outputs": [],
   "source": []
  }
 ],
 "metadata": {
  "kernelspec": {
   "display_name": "env",
   "language": "python",
   "name": "python3"
  },
  "language_info": {
   "codemirror_mode": {
    "name": "ipython",
    "version": 3
   },
   "file_extension": ".py",
   "mimetype": "text/x-python",
   "name": "python",
   "nbconvert_exporter": "python",
   "pygments_lexer": "ipython3",
   "version": "3.12.7"
  }
 },
 "nbformat": 4,
 "nbformat_minor": 2
}
