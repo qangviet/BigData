{
 "cells": [
  {
   "cell_type": "code",
   "execution_count": 1,
   "metadata": {},
   "outputs": [],
   "source": [
    "import sys\n",
    "import os\n",
    "import warnings\n",
    "import logging\n"
   ]
  },
  {
   "cell_type": "code",
   "execution_count": 2,
   "metadata": {},
   "outputs": [],
   "source": [
    "# from utils.helpers import load_cfg \n",
    "import yaml\n",
    "\n",
    "\n",
    "def load_cfg(cfg_file):\n",
    "    \"\"\"\n",
    "    Load configuration from a YAML config file\n",
    "    \"\"\"\n",
    "    cfg = None\n",
    "    with open(cfg_file, \"r\") as f:\n",
    "        try:\n",
    "            cfg = yaml.safe_load(f)\n",
    "        except yaml.YAMLError as exc:\n",
    "            print(exc)\n",
    "\n",
    "    return cfg\n"
   ]
  },
  {
   "cell_type": "code",
   "execution_count": 3,
   "metadata": {},
   "outputs": [],
   "source": [
    "# from utils.minio_utils import MinIOClient\n",
    "\n",
    "from minio import Minio\n",
    "\n",
    "\n",
    "class MinIOClient:\n",
    "    def __init__(self, endpoint_url, access_key, secret_key):\n",
    "        self.endpoint_url = endpoint_url\n",
    "        self.access_key = access_key\n",
    "        self.secret_key = secret_key\n",
    "\n",
    "    def create_conn(self):\n",
    "        client = Minio(\n",
    "            endpoint=self.endpoint_url,\n",
    "            access_key=self.access_key,\n",
    "            secret_key=self.secret_key,\n",
    "            secure=False,\n",
    "        )\n",
    "        return client\n",
    "\n",
    "    def create_bucket(self, bucket_name):\n",
    "        client = self.create_conn()\n",
    "\n",
    "        # Create bucket if not exist\n",
    "        found = client.bucket_exists(bucket_name=bucket_name)\n",
    "        if not found:\n",
    "            client.make_bucket(bucket_name=bucket_name)\n",
    "            print(f\"Bucket {bucket_name} created successfully!\")\n",
    "        else:\n",
    "            print(f\"Bucket {bucket_name} already exists, skip creating!\")\n",
    "\n",
    "    def list_parquet_files(self, bucket_name, prefix=\"\"):\n",
    "        client = self.create_conn()\n",
    "\n",
    "        # List all objects in the bucket with the given prefix\n",
    "        objects = client.list_objects(bucket_name, prefix=prefix, recursive=True)\n",
    "        # Filter and collect Parquet file names\n",
    "        parquet_files = [\n",
    "            obj.object_name for obj in objects if obj.object_name.endswith(\".parquet\")\n",
    "        ]\n",
    "\n",
    "        return parquet_files\n"
   ]
  },
  {
   "cell_type": "code",
   "execution_count": 4,
   "metadata": {},
   "outputs": [],
   "source": [
    "logging.basicConfig(level=logging.INFO, \n",
    "                    format='%(asctime)s:%(funcName)s:%(levelname)s:%(message)s')\n",
    "warnings.filterwarnings('ignore')"
   ]
  },
  {
   "cell_type": "code",
   "execution_count": 5,
   "metadata": {},
   "outputs": [
    {
     "name": "stdout",
     "output_type": "stream",
     "text": [
      "e:\\BigData_2\\MyProject\\src\\batch_processing\n"
     ]
    }
   ],
   "source": [
    "__file__ = os.getcwd()\n",
    "print(__file__) "
   ]
  },
  {
   "cell_type": "code",
   "execution_count": 6,
   "metadata": {},
   "outputs": [
    {
     "data": {
      "text/plain": [
       "'e:\\\\BigData_2'"
      ]
     },
     "execution_count": 6,
     "metadata": {},
     "output_type": "execute_result"
    }
   ],
   "source": [
    "project_root = os.path.dirname(\n",
    "    os.path.dirname(os.path.dirname(os.path.abspath(__file__)))\n",
    ")\n",
    "project_root"
   ]
  },
  {
   "cell_type": "code",
   "execution_count": 7,
   "metadata": {},
   "outputs": [],
   "source": [
    "CFG_FILE = os.path.join(project_root, \"MyProject/config\", \"datalake.yaml\")"
   ]
  },
  {
   "cell_type": "code",
   "execution_count": 8,
   "metadata": {},
   "outputs": [
    {
     "data": {
      "text/plain": [
       "{'endpoint': 'localhost:9000',\n",
       " 'bucket_name_1': 'raw',\n",
       " 'bucket_name_2': 'processed',\n",
       " 'bucket_name_3': 'sandbox',\n",
       " 'folder_name': 'batch',\n",
       " 'access_key': 'Xs27nx9M4HgPQ5PXZiUE',\n",
       " 'secret_key': '8iifKZlUZh1NRbepsISUMdg1CxlaIC6OSPQk5X59'}"
      ]
     },
     "execution_count": 8,
     "metadata": {},
     "output_type": "execute_result"
    }
   ],
   "source": [
    "cfg = load_cfg(CFG_FILE)\n",
    "datalake_cfg = cfg[\"datalake\"]\n",
    "datalake_cfg"
   ]
  },
  {
   "cell_type": "code",
   "execution_count": 9,
   "metadata": {},
   "outputs": [],
   "source": [
    "MINIO_ENDPOINT = datalake_cfg[\"endpoint\"]\n",
    "MINIO_ACCESS_KEY = datalake_cfg[\"access_key\"]\n",
    "MINIO_SECRET_KEY = datalake_cfg[\"secret_key\"]\n",
    "BUCKET_NAME_2 = datalake_cfg['bucket_name_2']\n",
    "BUCKET_NAME_3 = datalake_cfg['bucket_name_3']"
   ]
  },
  {
   "cell_type": "code",
   "execution_count": 10,
   "metadata": {},
   "outputs": [
    {
     "data": {
      "text/plain": [
       "('localhost:9000',\n",
       " 'Xs27nx9M4HgPQ5PXZiUE',\n",
       " '8iifKZlUZh1NRbepsISUMdg1CxlaIC6OSPQk5X59',\n",
       " 'processed',\n",
       " 'sandbox')"
      ]
     },
     "execution_count": 10,
     "metadata": {},
     "output_type": "execute_result"
    }
   ],
   "source": [
    "MINIO_ENDPOINT, MINIO_ACCESS_KEY, MINIO_SECRET_KEY, BUCKET_NAME_2, BUCKET_NAME_3"
   ]
  },
  {
   "cell_type": "code",
   "execution_count": 11,
   "metadata": {},
   "outputs": [
    {
     "data": {
      "text/plain": [
       "'e:\\\\BigData_2\\\\MyProject/jars'"
      ]
     },
     "execution_count": 11,
     "metadata": {},
     "output_type": "execute_result"
    }
   ],
   "source": [
    "JARS_DIR = os.path.join(project_root, \"MyProject/jars\")\n",
    "JARS_DIR"
   ]
  },
  {
   "cell_type": "code",
   "execution_count": 12,
   "metadata": {},
   "outputs": [],
   "source": [
    "jars =  [ JARS_DIR + \"/hadoop-aws-3.3.4.jar\", \n",
    "          JARS_DIR + \"/aws-java-sdk-bundle-1.12.262.jar\", \n",
    "          # JARS_DIR + \"/gcs-connector-hadoop3-latest.jar\",\n",
    "          # JARS_DIR + \"/spark-bigquery-latest_2.12.jar\"\n",
    "        ]"
   ]
  },
  {
   "cell_type": "code",
   "execution_count": 13,
   "metadata": {},
   "outputs": [
    {
     "data": {
      "text/plain": [
       "'e:\\\\BigData_2\\\\MyProject/jars/hadoop-aws-3.3.4.jar,e:\\\\BigData_2\\\\MyProject/jars/aws-java-sdk-bundle-1.12.262.jar'"
      ]
     },
     "execution_count": 13,
     "metadata": {},
     "output_type": "execute_result"
    }
   ],
   "source": [
    "','.join(jars)"
   ]
  },
  {
   "cell_type": "code",
   "execution_count": 14,
   "metadata": {},
   "outputs": [
    {
     "name": "stderr",
     "output_type": "stream",
     "text": [
      "2024-12-24 21:34:35,705:<module>:INFO:Spark session successfully created!\n"
     ]
    },
    {
     "name": "stdout",
     "output_type": "stream",
     "text": [
      "Bucket sandbox already exists, skip creating!\n"
     ]
    }
   ],
   "source": [
    "from pyspark.sql import SparkSession\n",
    "from delta.pip_utils import configure_spark_with_delta_pip\n",
    "jars = \"../../jars/hadoop-aws-3.3.4.jar,../../jars/aws-java-sdk-bundle-1.12.262.jar\"\n",
    "\n",
    "builder = SparkSession.builder \\\n",
    "        .appName(\"DeltaConvert\") \\\n",
    "        .config(\"spark.executor.memory\", '2g') \\\n",
    "        .config(\"spark.sql.catalog.spark_catalog\", \"org.apache.spark.sql.delta.catalog.DeltaCatalog\") \\\n",
    "        .config(\"spark.hadoop.fs.s3a.access.key\", MINIO_ACCESS_KEY) \\\n",
    "        .config(\"spark.hadoop.fs.s3a.secret.key\", MINIO_SECRET_KEY) \\\n",
    "        .config(\"spark.hadoop.fs.s3a.endpoint\", MINIO_ENDPOINT) \\\n",
    "        .config(\"spark.hadoop.fs.s3a.aws.credentials.provider\", \"org.apache.hadoop.fs.s3a.SimpleAWSCredentialsProvider\") \\\n",
    "        .config(\"spark.hadoop.fs.s3a.path.style.access\", \"true\") \\\n",
    "        .config(\"spark.hadoop.fs.s3a.connection.ssl.enabled\", \"false\") \\\n",
    "        .config(\"spark.hadoop.fs.s3a.impl\", \"org.apache.hadoop.fs.s3a.S3AFileSystem\") \\\n",
    "        .config(\"spark.hadoop.fs.s3a.connection.ssl.enabled\", \"false\") \\\n",
    "        .config(\"spark.jars\", jars)\n",
    "\n",
    "spark = configure_spark_with_delta_pip(\n",
    "    builder,\n",
    "    extra_packages=[\"org.apache.hadoop:hadoop-aws:3.3.4\"]\n",
    ").getOrCreate()\n",
    "\n",
    "logging.info('Spark session successfully created!')\n",
    "\n",
    "client = MinIOClient(\n",
    "    endpoint_url=MINIO_ENDPOINT,\n",
    "    access_key=MINIO_ACCESS_KEY,\n",
    "    secret_key=MINIO_SECRET_KEY\n",
    ")\n",
    "client.create_bucket(BUCKET_NAME_3)"
   ]
  },
  {
   "cell_type": "code",
   "execution_count": 15,
   "metadata": {},
   "outputs": [],
   "source": [
    "# for file in client.list_parquet_files(bucket_name=BUCKET_NAME_2):\n",
    "#     df = spark.read.parquet(f\"s3a://{BUCKET_NAME_2}/{file}\")\n",
    "#     df.write.format(\"delta\") \\\n",
    "#             .mode(\"overwrite\") \\\n",
    "#             .save(f\"s3a://{BUCKET_NAME_3}/{datalake_cfg[\"folder_name\"]}\")\n",
    "#     logging.info(f\"File {file} converted to delta format!\")"
   ]
  },
  {
   "cell_type": "code",
   "execution_count": 15,
   "metadata": {},
   "outputs": [],
   "source": [
    "list_files = client.list_parquet_files(bucket_name=BUCKET_NAME_2)"
   ]
  },
  {
   "cell_type": "code",
   "execution_count": 16,
   "metadata": {},
   "outputs": [],
   "source": [
    "file = list_files[1]"
   ]
  },
  {
   "cell_type": "code",
   "execution_count": 17,
   "metadata": {},
   "outputs": [
    {
     "data": {
      "text/plain": [
       "'2023/yellow_tripdata_2023-01.parquet'"
      ]
     },
     "execution_count": 17,
     "metadata": {},
     "output_type": "execute_result"
    }
   ],
   "source": [
    "file"
   ]
  },
  {
   "cell_type": "code",
   "execution_count": 20,
   "metadata": {},
   "outputs": [
    {
     "data": {
      "text/plain": [
       "'s3://processed'"
      ]
     },
     "execution_count": 20,
     "metadata": {},
     "output_type": "execute_result"
    }
   ],
   "source": [
    "f\"s3://{BUCKET_NAME_2}\""
   ]
  },
  {
   "cell_type": "code",
   "execution_count": 21,
   "metadata": {},
   "outputs": [
    {
     "data": {
      "text/plain": [
       "'s3://processed/2023/yellow_tripdata_2023-01.parquet'"
      ]
     },
     "execution_count": 21,
     "metadata": {},
     "output_type": "execute_result"
    }
   ],
   "source": [
    "f\"s3://{BUCKET_NAME_2}/{file}\""
   ]
  },
  {
   "cell_type": "code",
   "execution_count": 22,
   "metadata": {},
   "outputs": [],
   "source": [
    "file_path = f\"s3a://{BUCKET_NAME_2}/\" + file"
   ]
  },
  {
   "cell_type": "code",
   "execution_count": 23,
   "metadata": {},
   "outputs": [
    {
     "data": {
      "text/plain": [
       "'s3a://processed/2023/yellow_tripdata_2023-01.parquet'"
      ]
     },
     "execution_count": 23,
     "metadata": {},
     "output_type": "execute_result"
    }
   ],
   "source": [
    "file_path"
   ]
  },
  {
   "cell_type": "code",
   "execution_count": 24,
   "metadata": {},
   "outputs": [],
   "source": [
    "df = spark.read.parquet(file_path)"
   ]
  },
  {
   "cell_type": "code",
   "execution_count": 25,
   "metadata": {},
   "outputs": [
    {
     "name": "stdout",
     "output_type": "stream",
     "text": [
      "+--------------------+------------+-------------------+----------------+-----------------+-----+-----------+--------------+-----------+---------------------+-------+---------------+------------+-------------------+---------------+------------------+------------+----+----------+------------------+----------+------------+------------+-------------+--------+\n",
      "|congestion_surcharge|dolocationid|   dropoff_datetime|dropoff_latitude|dropoff_longitude|extra|fare_amount|            id|id_customer|improvement_surcharge|mta_tax|passenger_count|payment_type|    pickup_datetime|pickup_latitude|  pickup_longitude|pulocationid|rate|ratecodeid|store_and_fwd_flag|tip_amount|tolls_amount|total_amount|trip_distance|vendorid|\n",
      "+--------------------+------------+-------------------+----------------+-----------------+-----+-----------+--------------+-----------+---------------------+-------+---------------+------------+-------------------+---------------+------------------+------------+----+----------+------------------+----------+------------+------------+-------------+--------+\n",
      "|                 2.5|         141|2023-01-01 00:40:36|       37.742295|     -122.4651055|  1.0|        9.3|20230100000001|     310976|                  1.0|    0.5|            1.0|           2|2023-01-01 00:32:10|     30.3021212|-81.61965224433564|         161| 4.5|       1.0|                 N|       0.0|         0.0|        14.3|         0.97|       2|\n",
      "|                 2.5|         237|2023-01-01 01:01:27|     -35.0236389|      138.6767413|  1.0|        7.9|20230100000002|     218354|                  1.0|    0.5|            1.0|           1|2023-01-01 00:55:08|     40.7827725| -73.9653627406542|          43| 2.1|       1.0|                 N|       4.0|         0.0|        16.9|          1.1|       2|\n",
      "|                 2.5|         238|2023-01-01 00:37:49|     -35.0235084|      138.6766458|  1.0|       14.9|20230100000003|     463540|                  1.0|    0.5|            1.0|           1|2023-01-01 00:25:04|     36.1034126|       -84.1318632|          48| 4.1|       1.0|                 N|      15.0|         0.0|        34.9|         2.51|       2|\n",
      "|                 0.0|           7|2023-01-01 00:13:25|      46.1882007|     -123.8319802| 7.25|       12.1|20230100000004|     649163|                  1.0|    0.5|            0.0|           1|2023-01-01 00:03:48|     40.7757145|-73.87336398511545|         138| 2.4|       1.0|                 N|       0.0|         0.0|       20.85|          1.9|       1|\n",
      "|                 2.5|          79|2023-01-01 00:21:19|      40.7292688|      -73.9873613|  1.0|       11.4|20230100000005|     269214|                  1.0|    0.5|            1.0|           1|2023-01-01 00:10:29|     30.0474239|       -90.6898128|         107| 3.6|       1.0|                 N|      3.28|         0.0|       19.68|         1.43|       2|\n",
      "+--------------------+------------+-------------------+----------------+-----------------+-----+-----------+--------------+-----------+---------------------+-------+---------------+------------+-------------------+---------------+------------------+------------+----+----------+------------------+----------+------------+------------+-------------+--------+\n",
      "only showing top 5 rows\n",
      "\n"
     ]
    }
   ],
   "source": [
    "df.show(5)"
   ]
  },
  {
   "cell_type": "code",
   "execution_count": 27,
   "metadata": {},
   "outputs": [],
   "source": [
    "df_t_2 = spark.read.csv(\"s3a://raw/taxi_lookup.csv\", header=True)"
   ]
  },
  {
   "cell_type": "code",
   "execution_count": 28,
   "metadata": {},
   "outputs": [
    {
     "name": "stdout",
     "output_type": "stream",
     "text": [
      "+----------+-------------+--------------+------------+-----------+------------------+\n",
      "|LocationID|      Borough|          zone|service_zone|   latitude|         longitude|\n",
      "+----------+-------------+--------------+------------+-----------+------------------+\n",
      "|         1|          EWR|Newark Airport|         EWR|40.68906405|-74.17725485035348|\n",
      "|         2|       Queens|   Jamaica Bay|   Boro Zone| 40.6039936|       -73.8354124|\n",
      "|         3|        Bronx|      Allerton|   Boro Zone|  39.915319|-87.93321507559128|\n",
      "|         4|    Manhattan| Alphabet City| Yellow Zone| 40.7251022|       -73.9795833|\n",
      "|         5|Staten Island| Arden Heights|   Boro Zone| 53.2843196|         -7.492801|\n",
      "|         6|Staten Island|      Arrochar|   Boro Zone| 56.1954653|        -4.7480746|\n",
      "|         7|       Queens|       Astoria|   Boro Zone| 46.1882007|      -123.8319802|\n",
      "|         8|       Queens|  Astoria Park|   Boro Zone| 33.8241622|       -78.8918751|\n",
      "|         9|       Queens|    Auburndale|   Boro Zone| 28.0653422|       -81.7888642|\n",
      "|        10|       Queens|  Baisley Park|   Boro Zone| 42.2038609|       -83.1731182|\n",
      "+----------+-------------+--------------+------------+-----------+------------------+\n",
      "only showing top 10 rows\n",
      "\n"
     ]
    }
   ],
   "source": [
    "df_t_2.show(10)"
   ]
  },
  {
   "cell_type": "code",
   "execution_count": null,
   "metadata": {},
   "outputs": [],
   "source": []
  },
  {
   "cell_type": "code",
   "execution_count": 28,
   "metadata": {},
   "outputs": [
    {
     "data": {
      "text/plain": [
       "2733522"
      ]
     },
     "execution_count": 28,
     "metadata": {},
     "output_type": "execute_result"
    }
   ],
   "source": [
    "df.count()"
   ]
  },
  {
   "cell_type": "code",
   "execution_count": null,
   "metadata": {},
   "outputs": [],
   "source": [
    "df.write.format(\"delta\") \\\n",
    "        .mode(\"append\") \\\n",
    "        .save(f\"s3a://{BUCKET_NAME_3}/test\")"
   ]
  },
  {
   "cell_type": "code",
   "execution_count": 26,
   "metadata": {},
   "outputs": [],
   "source": [
    "test_df = spark.read.format(\"delta\") \\\n",
    "            .load(f\"s3a://raw/cdc_db/2024/01/02/data\")"
   ]
  },
  {
   "cell_type": "code",
   "execution_count": 27,
   "metadata": {},
   "outputs": [
    {
     "name": "stdout",
     "output_type": "stream",
     "text": [
      "+--------+--------------------+---------------------+------------------+----------+------------+------------+---------------+-------------+-----------+-----+-------+----------+------------+---------------------+------------+------------+---------+--------------------+--------------+-----------+----+\n",
      "|vendorid|lpep_pickup_datetime|lpep_dropoff_datetime|store_and_fwd_flag|ratecodeid|pulocationid|dolocationid|passenger_count|trip_distance|fare_amount|extra|mta_tax|tip_amount|tolls_amount|improvement_surcharge|total_amount|payment_type|trip_type|congestion_surcharge|            id|id_customer|rate|\n",
      "+--------+--------------------+---------------------+------------------+----------+------------+------------+---------------+-------------+-----------+-----+-------+----------+------------+---------------------+------------+------------+---------+--------------------+--------------+-----------+----+\n",
      "|       2| 2023-12-01 07:46:55|  2023-12-01 07:58:25|                 N|       1.0|         236|         239|            1.0|         1.98|       12.8|  1.0|    0.5|      3.61|         0.0|                  1.0|       21.66|         1.0|      1.0|                2.75|20240100000001|     275175| 2.5|\n",
      "|       2| 2023-12-01 07:31:42|  2023-12-01 07:52:34|                 N|       1.0|          65|         170|            5.0|         6.54|       30.3|  1.0|    0.5|      7.11|         0.0|                  1.0|       42.66|         1.0|      1.0|                2.75|20240100000002|     910119| 1.8|\n",
      "|       2| 2023-12-01 07:30:21|  2023-12-01 07:49:23|                 N|       1.0|          74|         262|            1.0|         3.08|       19.8|  1.0|    0.5|       3.0|         0.0|                  1.0|       28.05|         1.0|      1.0|                2.75|20240100000003|     869265| 5.0|\n",
      "|       1| 2023-12-01 07:30:20|  2023-12-01 07:42:12|                 N|       1.0|          74|         116|            1.0|          2.4|       14.2|  1.0|    1.5|       0.0|         0.0|                  1.0|        16.7|         2.0|      1.0|                 0.0|20240100000004|     291174| 5.0|\n",
      "|       2| 2023-12-01 07:32:38|  2023-12-01 07:43:37|                 N|       1.0|          74|         243|            1.0|         5.14|       22.6|  1.0|    0.5|      6.28|         0.0|                  1.0|       31.38|         1.0|      1.0|                 0.0|20240100000005|     813962| 2.9|\n",
      "|       1| 2023-12-01 07:43:41|  2023-12-01 08:00:23|                 N|       1.0|          33|         209|            1.0|          2.0|       17.0| 3.75|    1.5|       2.0|         0.0|                  1.0|       24.25|         1.0|      1.0|                2.75|20240100000006|     526827| 5.0|\n",
      "|       1| 2023-12-01 07:31:56|  2023-12-01 07:48:09|                 N|       1.0|          74|         238|            2.0|          3.2|       18.4| 3.75|    1.5|       4.7|         0.0|                  1.0|       28.35|         1.0|      1.0|                2.75|20240100000007|     955745| 3.1|\n",
      "|       2| 2023-12-01 07:46:12|  2023-12-01 07:57:39|                 N|       1.0|         166|         239|            2.0|         2.01|       13.5|  1.0|    0.5|      5.62|         0.0|                  1.0|       24.37|         1.0|      1.0|                2.75|20240100000008|     419113| 2.7|\n",
      "|       2| 2023-12-01 07:38:07|  2023-12-01 07:39:23|                 N|       1.0|         226|         226|            1.0|         0.31|        3.7|  1.0|    0.5|       0.0|         0.0|                  1.0|         6.2|         2.0|      1.0|                 0.0|20240100000009|     547999| 4.1|\n",
      "|       2| 2023-12-01 07:44:24|  2023-12-01 07:57:47|                 N|       1.0|           7|         129|            1.0|         2.32|       14.9|  1.0|    0.5|      3.48|         0.0|                  1.0|       20.88|         1.0|      1.0|                 0.0|20240100000010|     277703| 4.6|\n",
      "+--------+--------------------+---------------------+------------------+----------+------------+------------+---------------+-------------+-----------+-----+-------+----------+------------+---------------------+------------+------------+---------+--------------------+--------------+-----------+----+\n",
      "only showing top 10 rows\n",
      "\n"
     ]
    }
   ],
   "source": [
    "test_df.show(10)"
   ]
  },
  {
   "cell_type": "code",
   "execution_count": 18,
   "metadata": {},
   "outputs": [],
   "source": [
    "test_df_3 = spark.read.format(\"delta\").load(f\"s3a://processed/data/yellow/2024/01/02\")\n"
   ]
  },
  {
   "cell_type": "code",
   "execution_count": 19,
   "metadata": {},
   "outputs": [
    {
     "name": "stdout",
     "output_type": "stream",
     "text": [
      "+--------------------+------------+-------------------+------------------+------------------+-----+-----------+----+---------------------+-------+---------------+------------+-------------------+------------------+------------------+------------+----------+----------+------------+------------+-------------+--------+\n",
      "|congestion_surcharge|dolocationid|   dropoff_datetime|  dropoff_latitude| dropoff_longitude|extra|fare_amount| fee|improvement_surcharge|mta_tax|passenger_count|payment_type|    pickup_datetime|   pickup_latitude|  pickup_longitude|pulocationid|ratecodeid|tip_amount|tolls_amount|total_amount|trip_distance|vendorid|\n",
      "+--------------------+------------+-------------------+------------------+------------------+-----+-----------+----+---------------------+-------+---------------+------------+-------------------+------------------+------------------+------------+----------+----------+------------+------------+-------------+--------+\n",
      "|                 2.5|         170|2024-01-02 00:17:36|             40.76|       -73.8130556|10.25|       32.4|1.75|                  1.0|    0.5|            1.0|           1|2024-01-02 00:00:15|        40.7757145|-73.87336398511545|         138|       1.0|      10.2|        6.94|       61.29|          8.3|       1|\n",
      "|                 2.5|         262|2024-01-02 00:22:29|          33.46541|        -88.358724|  6.0|       31.7|1.75|                  1.0|    0.5|            1.0|           1|2024-01-02 00:08:05|        40.7757145|-73.87336398511545|         138|       1.0|       5.0|        6.94|       55.39|         8.05|       2|\n",
      "|                 0.0|         236|2024-01-02 00:48:18|          -35.0153|         138.63557|  0.0|       70.0|1.75|                  1.0|    0.5|            2.0|           1|2024-01-02 00:23:26|        40.6429479| -73.7793733748521|         132|       2.0|      15.0|        6.94|       95.19|        18.92|       2|\n",
      "|                 2.5|         140|2024-01-02 00:57:30|       40.77364275|-73.96086187105126|  1.0|        5.1| 0.0|                  1.0|    0.5|            1.0|           1|2024-01-02 00:56:00|         37.742295|      -122.4651055|         141|       1.0|      3.03|         0.0|       13.13|         0.61|       2|\n",
      "|                 2.5|         162|2024-01-02 00:09:12|35.821338749999995|-78.62083419871809|  3.5|        6.5| 0.0|                  1.0|    0.5|            3.0|           1|2024-01-02 00:02:10|        30.3021212|-81.61965224433564|         161|       1.0|       0.0|         0.0|        11.5|          0.7|       1|\n",
      "|                 0.0|           7|2024-01-02 00:25:37|        46.1882007|      -123.8319802| 7.75|       16.3|1.75|                  1.0|    0.5|            1.0|           1|2024-01-02 00:17:15|        40.7757145|-73.87336398511545|         138|       1.0|       5.1|         0.0|       30.65|          3.5|       1|\n",
      "|                 2.5|         236|2024-01-02 00:14:19|          -35.0153|         138.63557|  1.0|       12.1| 0.0|                  1.0|    0.5|            1.0|           1|2024-01-02 00:03:51|       -35.0235084|       138.6766458|         238|       1.0|      3.42|         0.0|       20.52|         1.66|       2|\n",
      "|                 2.5|         138|2024-01-02 00:59:09|        40.7757145|-73.87336398511545|  8.5|       40.8| 0.0|                  1.0|    0.5|            2.0|           1|2024-01-02 00:37:20|        40.7536941|       -73.9905167|         100|       1.0|       5.0|        6.94|       62.74|         10.2|       1|\n",
      "|                 2.5|         224|2024-01-02 00:25:27|       40.73185095|-73.97778284051762|  1.0|       12.1| 0.0|                  1.0|    0.5|            1.0|           1|2024-01-02 00:20:03|       40.77364275|-73.96086187105126|         140|       1.0|       3.0|         0.0|        20.1|         2.46|       2|\n",
      "|                 2.5|         229|2024-01-02 00:50:45|        40.7580419|        -73.960182|  3.5|        7.2| 0.0|                  1.0|    0.5|            1.0|           1|2024-01-02 00:44:55|35.821338749999995|-78.62083419871809|         162|       1.0|      2.45|         0.0|       14.65|          1.1|       1|\n",
      "+--------------------+------------+-------------------+------------------+------------------+-----+-----------+----+---------------------+-------+---------------+------------+-------------------+------------------+------------------+------------+----------+----------+------------+------------+-------------+--------+\n",
      "only showing top 10 rows\n",
      "\n"
     ]
    }
   ],
   "source": [
    "test_df_3.show(10)"
   ]
  },
  {
   "cell_type": "code",
   "execution_count": 20,
   "metadata": {},
   "outputs": [],
   "source": [
    "test_df_4 = spark.read.format(\"delta\").load(f\"s3a://processed/data/green/2024/01/02\")"
   ]
  },
  {
   "cell_type": "code",
   "execution_count": 21,
   "metadata": {},
   "outputs": [
    {
     "name": "stdout",
     "output_type": "stream",
     "text": [
      "+--------------------+------------+-------------------+----------------+-----------------+-----+-----------+--------------+-----------+---------------------+-------+---------------+------------+-------------------+---------------+----------------+------------+----+----------+----------+------------+------------+-------------+--------+\n",
      "|congestion_surcharge|dolocationid|   dropoff_datetime|dropoff_latitude|dropoff_longitude|extra|fare_amount|            id|id_customer|improvement_surcharge|mta_tax|passenger_count|payment_type|    pickup_datetime|pickup_latitude|pickup_longitude|pulocationid|rate|ratecodeid|tip_amount|tolls_amount|total_amount|trip_distance|vendorid|\n",
      "+--------------------+------------+-------------------+----------------+-----------------+-----+-----------+--------------+-----------+---------------------+-------+---------------+------------+-------------------+---------------+----------------+------------+----+----------+----------+------------+------------+-------------+--------+\n",
      "|                 0.0|          82|2024-01-02 07:53:54|      41.8994745|      -87.9403418|  1.0|       17.0|20240100001113|     537305|                  1.0|    0.5|            1.0|           1|2024-01-02 07:37:01|     41.8994745|     -87.9403418|          83| 1.2|       1.0|      4.88|         0.0|       24.38|         2.55|       2|\n",
      "|                 0.0|          10|2024-01-02 07:30:02|      42.2038609|      -83.1731182|  1.0|       11.4|20240100001114|     167952|                  1.0|    0.5|            1.0|           1|2024-01-02 07:21:06|     18.1850507|     -77.3947693|         130| 1.5|       1.0|      3.48|         0.0|       17.38|         1.87|       2|\n",
      "|                 0.0|         122|2024-01-02 07:58:23|      35.6674547|     -119.1912178|  1.0|       17.0|20240100001115|     822095|                  1.0|    0.5|            1.0|           1|2024-01-02 07:44:10|     18.1850507|     -77.3947693|         130| 3.6|       1.0|       2.1|         0.0|        21.6|         3.14|       2|\n",
      "|                 0.0|         136|2024-01-02 08:06:08|      40.8725702|      -73.9026619|  1.0|       14.2|20240100001117|     133721|                  1.0|    0.5|            5.0|           2|2024-01-02 07:56:05|     35.2557439|     -80.8602626|         243| 1.7|       1.0|       0.0|         0.0|        16.7|          2.6|       2|\n",
      "|                 0.0|          70|2024-01-02 07:16:05|      40.7612123|      -73.8651358|  1.0|       16.3|20240100001123|     861649|                  1.0|    0.5|            1.0|           1|2024-01-02 07:07:24|     40.7556561|     -73.8857755|         129| 3.2|       1.0|       2.0|         0.0|        20.8|         3.45|       2|\n",
      "|                 0.0|         198|2024-01-02 07:15:25|      40.9796683|      -74.1194403|  0.0|       35.0|20240100001124|     154898|                  1.0|    0.0|            2.0|           1|2024-01-02 07:15:21|     40.9796683|     -74.1194403|         198| 4.9|       5.0|       0.0|         0.0|        36.0|          0.0|       2|\n",
      "|                 0.0|         157|2024-01-02 08:00:17|       40.723158|       -73.912637|  0.0|       75.0|20240100001125|     459983|                  1.0|    0.0|            1.0|           1|2024-01-02 07:59:46|      40.723158|      -73.912637|         157| 2.3|       5.0|      15.2|         0.0|        91.2|         0.13|       2|\n",
      "|                 0.0|         258|2024-01-02 08:08:10|      42.1370519|      -83.2451066|  1.0|       26.1|20240100001126|     577583|                  1.0|    0.5|            1.0|           2|2024-01-02 07:26:42|     40.7556561|     -73.8857755|         129| 4.4|       1.0|       0.0|         0.0|        28.6|         4.84|       2|\n",
      "|                 0.0|         264|2024-01-02 07:49:10|      39.5158825|      -116.853722|  0.0|       50.0|20240100001127|     677989|                  0.0|    0.0|            1.0|           1|2024-01-02 07:48:10|     39.5158825|     -116.853722|         264| 5.0|       5.0|      8.08|         0.0|       58.08|          0.0|       2|\n",
      "|                 0.0|         157|2024-01-02 07:25:26|       40.723158|       -73.912637|  1.0|       11.4|20240100001128|     901710|                  1.0|    0.5|            5.0|           2|2024-01-02 07:15:57|     37.4299388|     -122.253855|         260| 2.4|       1.0|       0.0|         0.0|        13.9|         1.94|       2|\n",
      "+--------------------+------------+-------------------+----------------+-----------------+-----+-----------+--------------+-----------+---------------------+-------+---------------+------------+-------------------+---------------+----------------+------------+----+----------+----------+------------+------------+-------------+--------+\n",
      "only showing top 10 rows\n",
      "\n"
     ]
    }
   ],
   "source": [
    "test_df_4.show(10)"
   ]
  },
  {
   "cell_type": "code",
   "execution_count": 24,
   "metadata": {},
   "outputs": [],
   "source": [
    "spark.stop()"
   ]
  },
  {
   "cell_type": "code",
   "execution_count": 22,
   "metadata": {},
   "outputs": [
    {
     "name": "stdout",
     "output_type": "stream",
     "text": [
      "root\n",
      " |-- congestion_surcharge: double (nullable = true)\n",
      " |-- dolocationid: integer (nullable = true)\n",
      " |-- dropoff_datetime: timestamp (nullable = true)\n",
      " |-- dropoff_latitude: string (nullable = true)\n",
      " |-- dropoff_longitude: string (nullable = true)\n",
      " |-- extra: double (nullable = true)\n",
      " |-- fare_amount: double (nullable = true)\n",
      " |-- fee: double (nullable = true)\n",
      " |-- improvement_surcharge: double (nullable = true)\n",
      " |-- mta_tax: double (nullable = true)\n",
      " |-- passenger_count: double (nullable = true)\n",
      " |-- payment_type: integer (nullable = true)\n",
      " |-- pickup_datetime: timestamp (nullable = true)\n",
      " |-- pickup_latitude: string (nullable = true)\n",
      " |-- pickup_longitude: string (nullable = true)\n",
      " |-- pulocationid: integer (nullable = true)\n",
      " |-- ratecodeid: double (nullable = true)\n",
      " |-- tip_amount: double (nullable = true)\n",
      " |-- tolls_amount: double (nullable = true)\n",
      " |-- total_amount: double (nullable = true)\n",
      " |-- trip_distance: double (nullable = true)\n",
      " |-- vendorid: integer (nullable = true)\n",
      "\n"
     ]
    }
   ],
   "source": [
    "test_df_3.printSchema()"
   ]
  },
  {
   "cell_type": "code",
   "execution_count": 23,
   "metadata": {},
   "outputs": [
    {
     "name": "stdout",
     "output_type": "stream",
     "text": [
      "root\n",
      " |-- congestion_surcharge: double (nullable = true)\n",
      " |-- dolocationid: integer (nullable = true)\n",
      " |-- dropoff_datetime: timestamp (nullable = true)\n",
      " |-- dropoff_latitude: string (nullable = true)\n",
      " |-- dropoff_longitude: string (nullable = true)\n",
      " |-- extra: double (nullable = true)\n",
      " |-- fare_amount: double (nullable = true)\n",
      " |-- id: string (nullable = true)\n",
      " |-- id_customer: long (nullable = true)\n",
      " |-- improvement_surcharge: double (nullable = true)\n",
      " |-- mta_tax: double (nullable = true)\n",
      " |-- passenger_count: double (nullable = true)\n",
      " |-- payment_type: integer (nullable = true)\n",
      " |-- pickup_datetime: timestamp (nullable = true)\n",
      " |-- pickup_latitude: string (nullable = true)\n",
      " |-- pickup_longitude: string (nullable = true)\n",
      " |-- pulocationid: integer (nullable = true)\n",
      " |-- rate: double (nullable = true)\n",
      " |-- ratecodeid: double (nullable = true)\n",
      " |-- tip_amount: double (nullable = true)\n",
      " |-- tolls_amount: double (nullable = true)\n",
      " |-- total_amount: double (nullable = true)\n",
      " |-- trip_distance: double (nullable = true)\n",
      " |-- vendorid: integer (nullable = true)\n",
      "\n"
     ]
    }
   ],
   "source": [
    "test_df_4.printSchema()"
   ]
  },
  {
   "cell_type": "code",
   "execution_count": null,
   "metadata": {},
   "outputs": [],
   "source": []
  },
  {
   "cell_type": "code",
   "execution_count": null,
   "metadata": {},
   "outputs": [],
   "source": []
  },
  {
   "cell_type": "code",
   "execution_count": null,
   "metadata": {},
   "outputs": [],
   "source": []
  },
  {
   "cell_type": "code",
   "execution_count": null,
   "metadata": {},
   "outputs": [],
   "source": []
  },
  {
   "cell_type": "code",
   "execution_count": null,
   "metadata": {},
   "outputs": [],
   "source": []
  },
  {
   "cell_type": "code",
   "execution_count": null,
   "metadata": {},
   "outputs": [],
   "source": []
  },
  {
   "cell_type": "code",
   "execution_count": 36,
   "metadata": {},
   "outputs": [],
   "source": [
    "df.write.format(\"parquet\") \\\n",
    "    .mode(\"append\") \\\n",
    "    .save(f\"s3a://{BUCKET_NAME_3}/test_2/test_2.parquet\")"
   ]
  },
  {
   "cell_type": "code",
   "execution_count": 38,
   "metadata": {},
   "outputs": [],
   "source": [
    "test_df_2 = spark.read.format(\"parquet\") \\\n",
    "                .load(f\"s3a://{BUCKET_NAME_3}/test_2/test_2.parquet\")"
   ]
  },
  {
   "cell_type": "code",
   "execution_count": 40,
   "metadata": {},
   "outputs": [
    {
     "name": "stdout",
     "output_type": "stream",
     "text": [
      "+--------------------+------------+-------------------+------------------+-------------------+-----+-----------+--------------+-----------+---------------------+-------+---------------+------------+-------------------+---------------+------------------+------------+----+----------+------------------+----------+------------+------------+-------------+--------+\n",
      "|congestion_surcharge|dolocationid|   dropoff_datetime|  dropoff_latitude|  dropoff_longitude|extra|fare_amount|            id|id_customer|improvement_surcharge|mta_tax|passenger_count|payment_type|    pickup_datetime|pickup_latitude|  pickup_longitude|pulocationid|rate|ratecodeid|store_and_fwd_flag|tip_amount|tolls_amount|total_amount|trip_distance|vendorid|\n",
      "+--------------------+------------+-------------------+------------------+-------------------+-----+-----------+--------------+-----------+---------------------+-------+---------------+------------+-------------------+---------------+------------------+------------+----+----------+------------------+----------+------------+------------+-------------+--------+\n",
      "|                 2.5|         141|2023-01-01 00:40:36|         37.742295|       -122.4651055|  1.0|        9.3|20230100000001|     310976|                  1.0|    0.5|            1.0|           2|2023-01-01 00:32:10|     30.3021212|-81.61965224433564|         161| 4.5|       1.0|                 N|       0.0|         0.0|        14.3|         0.97|       2|\n",
      "|                 2.5|         237|2023-01-01 01:01:27|       -35.0236389|        138.6767413|  1.0|        7.9|20230100000002|     218354|                  1.0|    0.5|            1.0|           1|2023-01-01 00:55:08|     40.7827725| -73.9653627406542|          43| 2.1|       1.0|                 N|       4.0|         0.0|        16.9|          1.1|       2|\n",
      "|                 2.5|         238|2023-01-01 00:37:49|       -35.0235084|        138.6766458|  1.0|       14.9|20230100000003|     463540|                  1.0|    0.5|            1.0|           1|2023-01-01 00:25:04|     36.1034126|       -84.1318632|          48| 4.1|       1.0|                 N|      15.0|         0.0|        34.9|         2.51|       2|\n",
      "|                 0.0|           7|2023-01-01 00:13:25|        46.1882007|       -123.8319802| 7.25|       12.1|20230100000004|     649163|                  1.0|    0.5|            0.0|           1|2023-01-01 00:03:48|     40.7757145|-73.87336398511545|         138| 2.4|       1.0|                 N|       0.0|         0.0|       20.85|          1.9|       1|\n",
      "|                 2.5|          79|2023-01-01 00:21:19|        40.7292688|        -73.9873613|  1.0|       11.4|20230100000005|     269214|                  1.0|    0.5|            1.0|           1|2023-01-01 00:10:29|     30.0474239|       -90.6898128|         107| 3.6|       1.0|                 N|      3.28|         0.0|       19.68|         1.43|       2|\n",
      "|                 2.5|         137|2023-01-01 01:02:52|        40.7395463|        -73.9770832|  1.0|       12.8|20230100000006|     528386|                  1.0|    0.5|            1.0|           1|2023-01-01 00:50:34|     30.3021212|-81.61965224433564|         161| 1.4|       1.0|                 N|      10.0|         0.0|        27.8|         1.84|       2|\n",
      "|                 2.5|         143|2023-01-01 00:19:49|45.449931750000005|-122.72446558106034|  1.0|       12.1|20230100000007|     507579|                  1.0|    0.5|            1.0|           1|2023-01-01 00:09:22|     -35.015787|        138.636155|         239| 2.6|       1.0|                 N|      3.42|         0.0|       20.52|         1.66|       2|\n",
      "|                 2.5|         236|2023-01-01 00:36:40|          -35.0153|          138.63557|  1.0|       17.7|20230100000009|     751471|                  1.0|    0.5|            1.0|           1|2023-01-01 00:21:44|     40.7498417|        -73.984251|         164| 3.2|       1.0|                 N|      5.68|         0.0|       28.38|         2.95|       2|\n",
      "|                 2.5|         107|2023-01-01 00:50:36|        30.0474239|        -90.6898128|  1.0|       14.9|20230100000010|     659631|                  1.0|    0.5|            1.0|           2|2023-01-01 00:39:42|      37.742295|      -122.4651055|         141| 3.8|       1.0|                 N|       0.0|         0.0|        19.9|         3.01|       2|\n",
      "|                 2.5|          68|2023-01-01 01:01:45|       37.92252635|  -96.7615377706732|  1.0|       11.4|20230100000011|     346184|                  1.0|    0.5|            1.0|           1|2023-01-01 00:53:01|     40.7360717|       -73.9901888|         234| 1.7|       1.0|                 N|      3.28|         0.0|       19.68|          1.8|       2|\n",
      "+--------------------+------------+-------------------+------------------+-------------------+-----+-----------+--------------+-----------+---------------------+-------+---------------+------------+-------------------+---------------+------------------+------------+----+----------+------------------+----------+------------+------------+-------------+--------+\n",
      "only showing top 10 rows\n",
      "\n"
     ]
    }
   ],
   "source": [
    "test_df_2.show(10)"
   ]
  },
  {
   "cell_type": "code",
   "execution_count": 42,
   "metadata": {},
   "outputs": [
    {
     "data": {
      "text/plain": [
       "2733522"
      ]
     },
     "execution_count": 42,
     "metadata": {},
     "output_type": "execute_result"
    }
   ],
   "source": [
    "test_df_2.count()\n"
   ]
  },
  {
   "cell_type": "code",
   "execution_count": null,
   "metadata": {},
   "outputs": [],
   "source": [
    "    "
   ]
  },
  {
   "cell_type": "code",
   "execution_count": null,
   "metadata": {},
   "outputs": [],
   "source": []
  },
  {
   "cell_type": "code",
   "execution_count": null,
   "metadata": {},
   "outputs": [],
   "source": []
  },
  {
   "cell_type": "code",
   "execution_count": null,
   "metadata": {},
   "outputs": [],
   "source": []
  },
  {
   "cell_type": "code",
   "execution_count": null,
   "metadata": {},
   "outputs": [],
   "source": []
  },
  {
   "cell_type": "code",
   "execution_count": null,
   "metadata": {},
   "outputs": [],
   "source": [
    "test_df"
   ]
  },
  {
   "cell_type": "code",
   "execution_count": null,
   "metadata": {},
   "outputs": [],
   "source": []
  },
  {
   "cell_type": "code",
   "execution_count": null,
   "metadata": {},
   "outputs": [],
   "source": []
  },
  {
   "cell_type": "code",
   "execution_count": null,
   "metadata": {},
   "outputs": [],
   "source": []
  },
  {
   "cell_type": "code",
   "execution_count": null,
   "metadata": {},
   "outputs": [],
   "source": []
  },
  {
   "cell_type": "code",
   "execution_count": null,
   "metadata": {},
   "outputs": [],
   "source": []
  },
  {
   "cell_type": "code",
   "execution_count": 1,
   "metadata": {},
   "outputs": [],
   "source": [
    "from pyspark.sql import SparkSession\n",
    "from delta.pip_utils import configure_spark_with_delta_pip\n",
    "    \n",
    "jars = \"../../../jars/hadoop-aws-3.3.4.jar,../../../jars/aws-java-sdk-bundle-1.12.262.jar\"\n",
    "\n",
    "builder = SparkSession.builder \\\n",
    "        .appName(\"DeltaConvert\") \\\n",
    "        .config(\"spark.sql.catalog.spark_catalog\", \"org.apache.spark.sql.delta.catalog.DeltaCatalog\") \\\n",
    "        .config(\"spark.hadoop.fs.s3a.aws.credentials.provide+r\", \"org.apache.hadoop.fs.s3a.SimpleAWSCredentialsProvider\") \\\n",
    "        .config(\"spark.hadoop.fs.s3a.path.style.access\", \"true\") \\\n",
    "        .config(\"spark.hadoop.fs.s3a.connection.ssl.enabled\", \"false\") \\\n",
    "        .config(\"spark.hadoop.fs.s3a.impl\", \"org.apache.hadoop.fs.s3a.S3AFileSystem\") \\\n",
    "        .config(\"spark.hadoop.fs.s3a.connection.ssl.enabled\", \"false\") \\\n",
    "        .config(\"spark.jars\", jars)\n",
    "\n",
    "spark = configure_spark_with_delta_pip(\n",
    "    builder,\n",
    "    extra_packages=[\"org.apache.hadoop:hadoop-aws:3.3.4\"]\n",
    ").getOrCreate()"
   ]
  },
  {
   "cell_type": "code",
   "execution_count": null,
   "metadata": {},
   "outputs": [],
   "source": []
  }
 ],
 "metadata": {
  "kernelspec": {
   "display_name": "env",
   "language": "python",
   "name": "python3"
  },
  "language_info": {
   "codemirror_mode": {
    "name": "ipython",
    "version": 3
   },
   "file_extension": ".py",
   "mimetype": "text/x-python",
   "name": "python",
   "nbconvert_exporter": "python",
   "pygments_lexer": "ipython3",
   "version": "3.12.7"
  }
 },
 "nbformat": 4,
 "nbformat_minor": 2
}
