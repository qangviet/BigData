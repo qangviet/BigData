{
 "cells": [
  {
   "cell_type": "code",
   "execution_count": null,
   "metadata": {},
   "outputs": [],
   "source": [
    "from pyspark import SparkContext\n",
    "from pyspark.streaming import StreamingContext\n",
    "from pyspark.streaming.kafka import KafkaUtils\n",
    "\n",
    "# Cấu hình Kafka\n",
    "KAFKA_TOPIC = \"my_topic\"\n",
    "KAFKA_BOOTSTRAP_SERVERS = \"localhost:9092\"\n",
    "KAFKA_GROUP_ID = \"my_group\"\n",
    "\n",
    "# Cấu hình Spark\n",
    "sc = SparkContext(appName=\"KafkaStreaming\")\n",
    "ssc = StreamingContext(sc, batchDuration=10)  # Thời lượng batch (10 giây)\n",
    "\n",
    "# Cấu hình Kafka parameters\n",
    "kafka_params = {\n",
    "    \"bootstrap.servers\": KAFKA_BOOTSTRAP_SERVERS,\n",
    "    \"group.id\": KAFKA_GROUP_ID,\n",
    "    \"auto.offset.reset\": \"earliest\",  # 'earliest' hoặc 'latest'\n",
    "    \"key.deserializer\": \"org.apache.kafka.common.serialization.StringDeserializer\",\n",
    "    \"value.deserializer\": \"org.apache.kafka.common.serialization.StringDeserializer\",\n",
    "}\n",
    "\n",
    "# Tạo DStream từ Kafka\n",
    "kafka_stream = KafkaUtils.createDirectStream(\n",
    "    ssc, [KAFKA_TOPIC], kafkaParams=kafka_params\n",
    ")\n",
    "\n",
    "# Xử lý dữ liệu (ví dụ: in ra)\n",
    "def process_stream(rdd):\n",
    "    if not rdd.isEmpty():\n",
    "        for record in rdd.collect():\n",
    "            print(f\"Key: {record[0]}, Value: {record[1]}\")\n",
    "\n",
    "kafka_stream.foreachRDD(process_stream)\n",
    "\n",
    "# Bắt đầu streaming\n",
    "ssc.start()\n",
    "ssc.awaitTermination()"
   ]
  }
 ],
 "metadata": {
  "kernelspec": {
   "display_name": "env",
   "language": "python",
   "name": "python3"
  },
  "language_info": {
   "name": "python",
   "version": "3.12.2"
  }
 },
 "nbformat": 4,
 "nbformat_minor": 2
}
