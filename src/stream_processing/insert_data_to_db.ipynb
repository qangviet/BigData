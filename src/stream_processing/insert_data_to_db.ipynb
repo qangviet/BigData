{
 "cells": [
  {
   "cell_type": "code",
   "execution_count": 1,
   "metadata": {},
   "outputs": [
    {
     "data": {
      "text/plain": [
       "True"
      ]
     },
     "execution_count": 1,
     "metadata": {},
     "output_type": "execute_result"
    }
   ],
   "source": [
    "import psycopg2\n",
    "import os\n",
    "from dotenv import load_dotenv\n",
    "load_dotenv()\n"
   ]
  },
  {
   "cell_type": "code",
   "execution_count": 2,
   "metadata": {},
   "outputs": [],
   "source": [
    "conn = psycopg2.connect(\n",
    "    dbname=os.getenv(\"DB_STREAM_NAME\"),\n",
    "    user=os.getenv(\"DB_STREAM_USER\"),\n",
    "    password=os.getenv(\"DB_STREAM_PASSWORD\"),\n",
    "    host=os.getenv(\"DB_STREAM_HOST\"),\n",
    "    port=os.getenv(\"DB_STREAM_PORT\")\n",
    ")"
   ]
  },
  {
   "cell_type": "code",
   "execution_count": 3,
   "metadata": {},
   "outputs": [
    {
     "name": "stdout",
     "output_type": "stream",
     "text": [
      "   VendorID lpep_pickup_datetime lpep_dropoff_datetime store_and_fwd_flag  \\\n",
      "0         2  2024-01-01 00:46:55   2024-01-01 00:58:25                  N   \n",
      "1         2  2024-01-01 00:31:42   2024-01-01 00:52:34                  N   \n",
      "2         2  2024-01-01 00:30:21   2024-01-01 00:49:23                  N   \n",
      "3         1  2024-01-01 00:30:20   2024-01-01 00:42:12                  N   \n",
      "4         2  2024-01-01 00:32:38   2024-01-01 00:43:37                  N   \n",
      "\n",
      "   RatecodeID  PULocationID  DOLocationID  passenger_count  trip_distance  \\\n",
      "0         1.0           236           239              1.0           1.98   \n",
      "1         1.0            65           170              5.0           6.54   \n",
      "2         1.0            74           262              1.0           3.08   \n",
      "3         1.0            74           116              1.0           2.40   \n",
      "4         1.0            74           243              1.0           5.14   \n",
      "\n",
      "   fare_amount  extra  mta_tax  tip_amount  tolls_amount  ehail_fee  \\\n",
      "0         12.8    1.0      0.5        3.61           0.0        NaN   \n",
      "1         30.3    1.0      0.5        7.11           0.0        NaN   \n",
      "2         19.8    1.0      0.5        3.00           0.0        NaN   \n",
      "3         14.2    1.0      1.5        0.00           0.0        NaN   \n",
      "4         22.6    1.0      0.5        6.28           0.0        NaN   \n",
      "\n",
      "   improvement_surcharge  total_amount  payment_type  trip_type  \\\n",
      "0                    1.0         21.66           1.0        1.0   \n",
      "1                    1.0         42.66           1.0        1.0   \n",
      "2                    1.0         28.05           1.0        1.0   \n",
      "3                    1.0         16.70           2.0        1.0   \n",
      "4                    1.0         31.38           1.0        1.0   \n",
      "\n",
      "   congestion_surcharge  \n",
      "0                  2.75  \n",
      "1                  2.75  \n",
      "2                  2.75  \n",
      "3                  0.00  \n",
      "4                  0.00  \n"
     ]
    }
   ],
   "source": [
    "import pandas as pd\n",
    "\n",
    "# Đọc file Parquet\n",
    "file_path = \"../../data/green_tripdata_2024-01.parquet\"\n",
    "df = pd.read_parquet(file_path)\n",
    "\n",
    "# Hiển thị 5 dòng đầu tiên\n",
    "print(df.head())"
   ]
  },
  {
   "cell_type": "code",
   "execution_count": 4,
   "metadata": {},
   "outputs": [
    {
     "data": {
      "text/plain": [
       "56551"
      ]
     },
     "execution_count": 4,
     "metadata": {},
     "output_type": "execute_result"
    }
   ],
   "source": [
    "len(df)"
   ]
  },
  {
   "cell_type": "code",
   "execution_count": 4,
   "metadata": {},
   "outputs": [],
   "source": [
    "DTYPE_MAPPING = {\n",
    "    'int32': 'INTEGER',               # ánh xạ từ int32 sang INTEGER\n",
    "    'int64': 'BIGINT',                # ánh xạ từ int64 sang BIGINT\n",
    "    'float64': 'DOUBLE PRECISION',     # ánh xạ từ float64 sang DOUBLE PRECISION\n",
    "    'object': 'TEXT',                  # ánh xạ từ object sang TEXT\n",
    "    'datetime64[us]': 'TIMESTAMP', \n",
    "    'datetime64[ns]': 'TIMESTAMP', # ánh xạ từ datetime64 sang TIMESTAMP\n",
    "}\n",
    "\n",
    "def clear_all_tables(conn):\n",
    "    cur = conn.cursor()\n",
    "    cur.execute(\"SELECT tablename FROM pg_tables WHERE schemaname='public'\")\n",
    "    tables = cur.fetchall()\n",
    "    for table in tables:\n",
    "        cur.execute(f\"DROP TABLE {table[0]} CASCADE\")\n",
    "    conn.commit()\n",
    "    cur.close()\n",
    "\n",
    "def create_table(conn, table_name, columns):\n",
    "    cur = conn.cursor()\n",
    "    columns_str = ', '.join([f\"{col_name} {DTYPE_MAPPING[str(col_type)]}\" for col_name, col_type in columns.items()])\n",
    "    cur.execute(f\"CREATE TABLE {table_name} ({columns_str})\")\n",
    "    conn.commit()\n",
    "    cur.close()"
   ]
  },
  {
   "cell_type": "code",
   "execution_count": 18,
   "metadata": {},
   "outputs": [
    {
     "name": "stdout",
     "output_type": "stream",
     "text": [
      "Connector status: {'name': 'taxi-nyc-cdc', 'config': {'connector.class': 'io.debezium.connector.postgresql.PostgresConnector', 'database.user': 'postgres', 'database.dbname': 'streaming_db', 'topic.prefix': 'streaming', 'database.hostname': 'host.docker.internal', 'database.password': '12345', 'name': 'taxi-nyc-cdc', 'database.server.name': 'source', 'table.include.list': 'public.yellow_trip_raw,public.green_trip_raw', 'database.port': '5432', 'plugin.name': 'pgoutput'}, 'tasks': [{'connector': 'taxi-nyc-cdc', 'task': 0}], 'type': 'source'}\n",
      "Detailed status: {\n",
      "  \"name\": \"taxi-nyc-cdc\",\n",
      "  \"connector\": {\n",
      "    \"state\": \"RUNNING\",\n",
      "    \"worker_id\": \"172.18.0.7:8083\"\n",
      "  },\n",
      "  \"tasks\": [\n",
      "    {\n",
      "      \"id\": 0,\n",
      "      \"state\": \"RUNNING\",\n",
      "      \"worker_id\": \"172.18.0.7:8083\"\n",
      "    }\n",
      "  ],\n",
      "  \"type\": \"source\"\n",
      "}\n"
     ]
    }
   ],
   "source": [
    "import requests\n",
    "import json\n",
    "\n",
    "def check_connector_status():\n",
    "    try:\n",
    "        # Kiểm tra connector có tồn tại\n",
    "        response = requests.get('http://localhost:8083/connectors/taxi-nyc-cdc')\n",
    "        print(\"Connector status:\", response.json())\n",
    "        \n",
    "        # Kiểm tra trạng thái chi tiết\n",
    "        response = requests.get('http://localhost:8083/connectors/taxi-nyc-cdc/status')\n",
    "        print(\"Detailed status:\", json.dumps(response.json(), indent=2))\n",
    "        \n",
    "    except Exception as e:\n",
    "        print(f\"Lỗi khi check connector: {e}\")\n",
    "check_connector_status()"
   ]
  },
  {
   "cell_type": "code",
   "execution_count": 5,
   "metadata": {},
   "outputs": [],
   "source": [
    "def check_replication_slot():\n",
    "    try:\n",
    "        conn = psycopg2.connect(\n",
    "            dbname=\"streaming_db\",\n",
    "            user=\"postgres\",\n",
    "            password=\"12345\",\n",
    "            host=\"localhost\",\n",
    "            port=\"5432\"\n",
    "        )\n",
    "        cur = conn.cursor()\n",
    "        \n",
    "        # Kiểm tra replication slot\n",
    "        cur.execute(\"SELECT * FROM pg_replication_slots;\")\n",
    "        slots = cur.fetchall()\n",
    "        print(\"Replication slots:\", slots)\n",
    "        \n",
    "        # Kiểm tra publication\n",
    "        cur.execute(\"SELECT * FROM pg_publication;\")\n",
    "        publications = cur.fetchall()\n",
    "        print(\"Publications:\", publications)\n",
    "        \n",
    "        cur.close()\n",
    "        conn.close()\n",
    "        \n",
    "    except Exception as e:\n",
    "        print(f\"Lỗi khi check replication: {e}\")\n"
   ]
  },
  {
   "cell_type": "code",
   "execution_count": 21,
   "metadata": {},
   "outputs": [
    {
     "name": "stdout",
     "output_type": "stream",
     "text": [
      "Replication slots: [('taxi_nyc_time_series', 'pgoutput', 'logical', 16388, 'streaming_db', False, False, None, None, '763', '0/1A56280', '0/1A905A0', 'reserved', None, False, datetime.datetime(2024, 11, 24, 14, 20, 45, 965324, tzinfo=datetime.timezone(datetime.timedelta(seconds=25200))), False, None, False, False), ('debezium', 'pgoutput', 'logical', 16388, 'streaming_db', False, True, 1844, None, '772', '0/1A971D8', '0/1A905A0', 'reserved', None, False, None, False, None, False, False)]\n",
      "Publications: [(16394, 'dbz_publication', 10, True, True, True, True, True, False)]\n"
     ]
    }
   ],
   "source": [
    "check_replication_slot()"
   ]
  },
  {
   "cell_type": "code",
   "execution_count": 6,
   "metadata": {},
   "outputs": [],
   "source": [
    "def insert_to_db(conn, table_name, df):\n",
    "    cur = conn.cursor()\n",
    "    for i, row in df.iterrows():\n",
    "        columns = ', '.join(row.keys())\n",
    "        values = ', '.join([f\"'{str(value)}'\" for value in row.values])\n",
    "        cur.execute(f\"INSERT INTO {table_name} ({columns}) VALUES ({values})\")\n",
    "    conn.commit()\n",
    "    cur.close()"
   ]
  },
  {
   "cell_type": "code",
   "execution_count": 8,
   "metadata": {},
   "outputs": [],
   "source": [
    "create_table(conn, \"green_trip_raw\", df.dtypes)"
   ]
  },
  {
   "cell_type": "code",
   "execution_count": 9,
   "metadata": {},
   "outputs": [],
   "source": [
    "conn.rollback()"
   ]
  },
  {
   "cell_type": "code",
   "execution_count": 8,
   "metadata": {},
   "outputs": [
    {
     "ename": "UndefinedColumn",
     "evalue": "column \"lpep_pickup_datetime\" of relation \"yellow_trip_raw\" does not exist\nLINE 1: INSERT INTO yellow_trip_raw (VendorID, lpep_pickup_datetime,...\n                                               ^\n",
     "output_type": "error",
     "traceback": [
      "\u001b[1;31m---------------------------------------------------------------------------\u001b[0m",
      "\u001b[1;31mUndefinedColumn\u001b[0m                           Traceback (most recent call last)",
      "Cell \u001b[1;32mIn[8], line 1\u001b[0m\n\u001b[1;32m----> 1\u001b[0m \u001b[43minsert_to_db\u001b[49m\u001b[43m(\u001b[49m\u001b[43mconn\u001b[49m\u001b[43m,\u001b[49m\u001b[43m \u001b[49m\u001b[38;5;124;43m'\u001b[39;49m\u001b[38;5;124;43myellow_trip_raw\u001b[39;49m\u001b[38;5;124;43m'\u001b[39;49m\u001b[43m,\u001b[49m\u001b[43m \u001b[49m\u001b[43mdf\u001b[49m\u001b[38;5;241;43m.\u001b[39;49m\u001b[43miloc\u001b[49m\u001b[43m[\u001b[49m\u001b[38;5;241;43m90\u001b[39;49m\u001b[43m:\u001b[49m\u001b[38;5;241;43m120\u001b[39;49m\u001b[43m]\u001b[49m\u001b[43m)\u001b[49m\n\u001b[0;32m      2\u001b[0m conn\u001b[38;5;241m.\u001b[39mclose()\n",
      "Cell \u001b[1;32mIn[6], line 6\u001b[0m, in \u001b[0;36minsert_to_db\u001b[1;34m(conn, table_name, df)\u001b[0m\n\u001b[0;32m      4\u001b[0m     columns \u001b[38;5;241m=\u001b[39m \u001b[38;5;124m'\u001b[39m\u001b[38;5;124m, \u001b[39m\u001b[38;5;124m'\u001b[39m\u001b[38;5;241m.\u001b[39mjoin(row\u001b[38;5;241m.\u001b[39mkeys())\n\u001b[0;32m      5\u001b[0m     values \u001b[38;5;241m=\u001b[39m \u001b[38;5;124m'\u001b[39m\u001b[38;5;124m, \u001b[39m\u001b[38;5;124m'\u001b[39m\u001b[38;5;241m.\u001b[39mjoin([\u001b[38;5;124mf\u001b[39m\u001b[38;5;124m\"\u001b[39m\u001b[38;5;124m'\u001b[39m\u001b[38;5;132;01m{\u001b[39;00m\u001b[38;5;28mstr\u001b[39m(value)\u001b[38;5;132;01m}\u001b[39;00m\u001b[38;5;124m'\u001b[39m\u001b[38;5;124m\"\u001b[39m \u001b[38;5;28;01mfor\u001b[39;00m value \u001b[38;5;129;01min\u001b[39;00m row\u001b[38;5;241m.\u001b[39mvalues])\n\u001b[1;32m----> 6\u001b[0m     \u001b[43mcur\u001b[49m\u001b[38;5;241;43m.\u001b[39;49m\u001b[43mexecute\u001b[49m\u001b[43m(\u001b[49m\u001b[38;5;124;43mf\u001b[39;49m\u001b[38;5;124;43m\"\u001b[39;49m\u001b[38;5;124;43mINSERT INTO \u001b[39;49m\u001b[38;5;132;43;01m{\u001b[39;49;00m\u001b[43mtable_name\u001b[49m\u001b[38;5;132;43;01m}\u001b[39;49;00m\u001b[38;5;124;43m (\u001b[39;49m\u001b[38;5;132;43;01m{\u001b[39;49;00m\u001b[43mcolumns\u001b[49m\u001b[38;5;132;43;01m}\u001b[39;49;00m\u001b[38;5;124;43m) VALUES (\u001b[39;49m\u001b[38;5;132;43;01m{\u001b[39;49;00m\u001b[43mvalues\u001b[49m\u001b[38;5;132;43;01m}\u001b[39;49;00m\u001b[38;5;124;43m)\u001b[39;49m\u001b[38;5;124;43m\"\u001b[39;49m\u001b[43m)\u001b[49m\n\u001b[0;32m      7\u001b[0m conn\u001b[38;5;241m.\u001b[39mcommit()\n\u001b[0;32m      8\u001b[0m cur\u001b[38;5;241m.\u001b[39mclose()\n",
      "\u001b[1;31mUndefinedColumn\u001b[0m: column \"lpep_pickup_datetime\" of relation \"yellow_trip_raw\" does not exist\nLINE 1: INSERT INTO yellow_trip_raw (VendorID, lpep_pickup_datetime,...\n                                               ^\n"
     ]
    }
   ],
   "source": [
    "insert_to_db(conn, 'yellow_trip_raw', df.iloc[90:120])\n",
    "conn.close()"
   ]
  },
  {
   "cell_type": "code",
   "execution_count": 10,
   "metadata": {},
   "outputs": [],
   "source": [
    "conn.rollback()"
   ]
  },
  {
   "cell_type": "code",
   "execution_count": 12,
   "metadata": {},
   "outputs": [],
   "source": [
    "insert_to_db(conn, 'green_trip_raw', df.iloc[115:120])"
   ]
  }
 ],
 "metadata": {
  "kernelspec": {
   "display_name": "env",
   "language": "python",
   "name": "python3"
  },
  "language_info": {
   "codemirror_mode": {
    "name": "ipython",
    "version": 3
   },
   "file_extension": ".py",
   "mimetype": "text/x-python",
   "name": "python",
   "nbconvert_exporter": "python",
   "pygments_lexer": "ipython3",
   "version": "3.12.7"
  }
 },
 "nbformat": 4,
 "nbformat_minor": 2
}
