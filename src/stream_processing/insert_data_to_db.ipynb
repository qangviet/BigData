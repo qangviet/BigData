{
 "cells": [
  {
   "cell_type": "code",
   "execution_count": 1,
   "metadata": {},
   "outputs": [
    {
     "data": {
      "text/plain": [
       "True"
      ]
     },
     "execution_count": 1,
     "metadata": {},
     "output_type": "execute_result"
    }
   ],
   "source": [
    "import psycopg2\n",
    "import os\n",
    "from dotenv import load_dotenv\n",
    "load_dotenv()\n"
   ]
  },
  {
   "cell_type": "code",
   "execution_count": 13,
   "metadata": {},
   "outputs": [],
   "source": [
    "conn = psycopg2.connect(\n",
    "    dbname=os.getenv(\"DB_STREAM_NAME\"),\n",
    "    user=os.getenv(\"DB_STREAM_USER\"),\n",
    "    password=os.getenv(\"DB_STREAM_PASSWORD\"),\n",
    "    host=os.getenv(\"DB_STREAM_HOST\"),\n",
    "    port=os.getenv(\"DB_STREAM_PORT\")\n",
    ")"
   ]
  },
  {
   "cell_type": "code",
   "execution_count": 12,
   "metadata": {},
   "outputs": [],
   "source": [
    "import pandas as pd\n",
    "\n",
    "# Đọc file Parquet\n",
    "file_path = \"../../data/green_tripdata_2024-01.parquet\"\n",
    "df = pd.read_parquet(file_path)\n",
    "\n",
    "# Hiển thị 5 dòng đầu tiên\n",
    "# print(df.head())"
   ]
  },
  {
   "cell_type": "code",
   "execution_count": 4,
   "metadata": {},
   "outputs": [
    {
     "data": {
      "text/plain": [
       "56551"
      ]
     },
     "execution_count": 4,
     "metadata": {},
     "output_type": "execute_result"
    }
   ],
   "source": [
    "len(df)"
   ]
  },
  {
   "cell_type": "code",
   "execution_count": 5,
   "metadata": {},
   "outputs": [],
   "source": [
    "DTYPE_MAPPING = {\n",
    "    'int32': 'INTEGER',               # ánh xạ từ int32 sang INTEGER\n",
    "    'int64': 'BIGINT',                # ánh xạ từ int64 sang BIGINT\n",
    "    'float64': 'DOUBLE PRECISION',     # ánh xạ từ float64 sang DOUBLE PRECISION\n",
    "    'object': 'TEXT',                  # ánh xạ từ object sang TEXT\n",
    "    'datetime64[us]': 'TIMESTAMP', \n",
    "    'datetime64[ns]': 'TIMESTAMP', # ánh xạ từ datetime64 sang TIMESTAMP\n",
    "}\n",
    "\n",
    "def clear_all_tables(conn):\n",
    "    cur = conn.cursor()\n",
    "    cur.execute(\"SELECT tablename FROM pg_tables WHERE schemaname='public'\")\n",
    "    tables = cur.fetchall()\n",
    "    for table in tables:\n",
    "        cur.execute(f\"DROP TABLE {table[0]} CASCADE\")\n",
    "    conn.commit()\n",
    "    cur.close()\n",
    "\n",
    "def create_table(conn, table_name, columns):\n",
    "    cur = conn.cursor()\n",
    "    columns_str = ', '.join([f\"{col_name} {DTYPE_MAPPING[str(col_type)]}\" for col_name, col_type in columns.items()])\n",
    "    cur.execute(f\"CREATE TABLE {table_name} ({columns_str})\")\n",
    "    conn.commit()\n",
    "    cur.close()"
   ]
  },
  {
   "cell_type": "code",
   "execution_count": 15,
   "metadata": {},
   "outputs": [],
   "source": [
    "clear_all_tables(conn)\n",
    "# conn.rollback()"
   ]
  },
  {
   "cell_type": "code",
   "execution_count": 6,
   "metadata": {},
   "outputs": [
    {
     "name": "stdout",
     "output_type": "stream",
     "text": [
      "Connector status: {'name': 'taxi-nyc-cdc', 'config': {'connector.class': 'io.debezium.connector.postgresql.PostgresConnector', 'database.user': 'postgres', 'database.dbname': 'streaming_db', 'topic.prefix': 'streaming', 'database.hostname': 'host.docker.internal', 'database.password': '12345', 'name': 'taxi-nyc-cdc', 'database.server.name': 'source', 'table.include.list': 'public.yellow_trip_raw,public.green_trip_raw,public.', 'database.port': '5432', 'plugin.name': 'pgoutput'}, 'tasks': [{'connector': 'taxi-nyc-cdc', 'task': 0}], 'type': 'source'}\n",
      "Detailed status: {\n",
      "  \"name\": \"taxi-nyc-cdc\",\n",
      "  \"connector\": {\n",
      "    \"state\": \"RUNNING\",\n",
      "    \"worker_id\": \"172.18.0.7:8083\"\n",
      "  },\n",
      "  \"tasks\": [\n",
      "    {\n",
      "      \"id\": 0,\n",
      "      \"state\": \"RUNNING\",\n",
      "      \"worker_id\": \"172.18.0.7:8083\"\n",
      "    }\n",
      "  ],\n",
      "  \"type\": \"source\"\n",
      "}\n"
     ]
    }
   ],
   "source": [
    "import requests\n",
    "import json\n",
    "\n",
    "def check_connector_status():\n",
    "    try:\n",
    "        # Kiểm tra connector có tồn tại\n",
    "        response = requests.get('http://localhost:8083/connectors/taxi-nyc-cdc')\n",
    "        print(\"Connector status:\", response.json())\n",
    "        \n",
    "        # Kiểm tra trạng thái chi tiết\n",
    "        response = requests.get('http://localhost:8083/connectors/taxi-nyc-cdc/status')\n",
    "        print(\"Detailed status:\", json.dumps(response.json(), indent=2))\n",
    "        \n",
    "    except Exception as e:\n",
    "        print(f\"Lỗi khi check connector: {e}\")\n",
    "check_connector_status()"
   ]
  },
  {
   "cell_type": "code",
   "execution_count": 7,
   "metadata": {},
   "outputs": [],
   "source": [
    "def check_replication_slot():\n",
    "    try:\n",
    "        conn = psycopg2.connect(\n",
    "            dbname=\"streaming_db\",\n",
    "            user=\"postgres\",\n",
    "            password=\"12345\",\n",
    "            host=\"localhost\",\n",
    "            port=\"5432\"\n",
    "        )\n",
    "        cur = conn.cursor()\n",
    "        \n",
    "        # Kiểm tra replication slot\n",
    "        cur.execute(\"SELECT * FROM pg_replication_slots;\")\n",
    "        slots = cur.fetchall()\n",
    "        print(\"Replication slots:\", slots)\n",
    "        \n",
    "        # Kiểm tra publication\n",
    "        cur.execute(\"SELECT * FROM pg_publication;\")\n",
    "        publications = cur.fetchall()\n",
    "        print(\"Publications:\", publications)\n",
    "        \n",
    "        cur.close()\n",
    "        conn.close()\n",
    "        \n",
    "    except Exception as e:\n",
    "        print(f\"Lỗi khi check replication: {e}\")\n"
   ]
  },
  {
   "cell_type": "code",
   "execution_count": 8,
   "metadata": {},
   "outputs": [
    {
     "name": "stdout",
     "output_type": "stream",
     "text": [
      "Replication slots: [('debezium', 'pgoutput', 'logical', 16388, 'streaming_db', False, True, 3956, None, '780', '0/1ABB450', '0/1ABB450', 'reserved', None, False, None, False, None, False, False), ('taxi_nyc_time_series', 'pgoutput', 'logical', 16388, 'streaming_db', False, False, None, None, '763', '0/1A56280', '0/1A905A0', 'reserved', None, False, datetime.datetime(2024, 12, 11, 10, 50, 44, 452919, tzinfo=datetime.timezone(datetime.timedelta(seconds=25200))), False, None, False, False)]\n",
      "Publications: [(16394, 'dbz_publication', 10, True, True, True, True, True, False)]\n"
     ]
    }
   ],
   "source": [
    "check_replication_slot()"
   ]
  },
  {
   "cell_type": "code",
   "execution_count": 9,
   "metadata": {},
   "outputs": [],
   "source": [
    "def insert_to_db(conn, table_name, df):\n",
    "    cur = conn.cursor()\n",
    "    for i, row in df.iterrows():\n",
    "        columns = ', '.join(row.keys())\n",
    "        values = ', '.join([f\"'{str(value)}'\" for value in row.values])\n",
    "        cur.execute(f\"INSERT INTO {table_name} ({columns}) VALUES ({values})\")\n",
    "    conn.commit()\n",
    "    cur.close()"
   ]
  },
  {
   "cell_type": "code",
   "execution_count": 16,
   "metadata": {},
   "outputs": [],
   "source": [
    "create_table(conn, \"green_trip_raw\", df.dtypes)"
   ]
  },
  {
   "cell_type": "code",
   "execution_count": 20,
   "metadata": {},
   "outputs": [],
   "source": [
    "insert_to_db(conn, 'green_trip_raw', df.iloc[0:15])\n",
    "conn.close()"
   ]
  },
  {
   "cell_type": "code",
   "execution_count": 10,
   "metadata": {},
   "outputs": [],
   "source": [
    "conn.rollback()"
   ]
  },
  {
   "cell_type": "code",
   "execution_count": 12,
   "metadata": {},
   "outputs": [],
   "source": [
    "insert_to_db(conn, 'green_trip_raw', df.iloc[115:120])"
   ]
  }
 ],
 "metadata": {
  "kernelspec": {
   "display_name": "env",
   "language": "python",
   "name": "python3"
  },
  "language_info": {
   "codemirror_mode": {
    "name": "ipython",
    "version": 3
   },
   "file_extension": ".py",
   "mimetype": "text/x-python",
   "name": "python",
   "nbconvert_exporter": "python",
   "pygments_lexer": "ipython3",
   "version": "3.12.7"
  }
 },
 "nbformat": 4,
 "nbformat_minor": 2
}
