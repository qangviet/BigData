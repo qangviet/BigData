{
 "cells": [
  {
   "cell_type": "code",
   "execution_count": null,
   "metadata": {},
   "outputs": [],
   "source": [
    "from kafka import KafkaConsumer, KafkaProducer\n",
    "from kafka.admin import NewTopic\n",
    "import json\n",
    "import time\n",
    "from datetime import datetime\n",
    "import pandas as pd"
   ]
  },
  {
   "cell_type": "code",
   "execution_count": null,
   "metadata": {},
   "outputs": [],
   "source": [
    "BOOTSTRAP_SERVERS = ['localhost:9092', 'localhost:9093', 'localhost:9094']"
   ]
  },
  {
   "cell_type": "code",
   "execution_count": null,
   "metadata": {},
   "outputs": [],
   "source": [
    "producer = KafkaProducer(\n",
    "    bootstrap_servers=BOOTSTRAP_SERVERS,\n",
    "    value_serializer=lambda v: json.dumps(v).encode('utf-8'),\n",
    "    key_serializer=lambda v: json.dumps(v).encode('utf-8')\n",
    ")\n",
    "\n",
    "def send_message():\n",
    "    try:\n",
    "        # Topic để test\n",
    "        topic_name = \"test-topic\"\n",
    "        \n",
    "        while True:\n",
    "            # Tạo message test\n",
    "            current_time = datetime.now().strftime(\"%Y-%m-%d %H:%M:%S\")\n",
    "            message = {\n",
    "                \"timestamp\": current_time,\n",
    "                \"message\": f\"Test message at {current_time}\",\n",
    "                \"value\": round(time.time())\n",
    "            }\n",
    "            \n",
    "            # Key cho message\n",
    "            key = {\"key\": f\"key_{round(time.time())}\"}\n",
    "            \n",
    "            # Gửi message\n",
    "            future = producer.send(topic_name, key=key, value=message)\n",
    "            \n",
    "            # Đợi để đảm bảo message được gửi thành công\n",
    "            record_metadata = future.get(timeout=10)\n",
    "            \n",
    "            print(f\"\\nMessage sent successfully:\")\n",
    "            print(f\"Topic: {record_metadata.topic}\")\n",
    "            print(f\"Partition: {record_metadata.partition}\")\n",
    "            print(f\"Offset: {record_metadata.offset}\")\n",
    "            print(f\"Message: {message}\")\n",
    "            \n",
    "            # Đợi 5 giây trước khi gửi message tiếp\n",
    "            time.sleep(5)\n",
    "            \n",
    "    except Exception as e:\n",
    "        print(f\"Error sending message: {e}\")\n",
    "    finally:\n",
    "        producer.close()"
   ]
  },
  {
   "cell_type": "code",
   "execution_count": null,
   "metadata": {},
   "outputs": [],
   "source": []
  },
  {
   "cell_type": "code",
   "execution_count": null,
   "metadata": {},
   "outputs": [],
   "source": [
    "BOOTSTRAP_SERVERS = ['localhost:9092', 'localhost:9093', 'localhost:9094']\n",
    "cosumer = KafkaConsumer(bootstrap_servers=BOOTSTRAP_SERVERS)\n",
    "cosumer.topics()"
   ]
  },
  {
   "cell_type": "code",
   "execution_count": null,
   "metadata": {},
   "outputs": [],
   "source": [
    "\n",
    "consumer_2 = KafkaConsumer(\n",
    "    'streaming.public.yellow_trip_raw',  # tên topic\n",
    "    bootstrap_servers=BOOTSTRAP_SERVERS,\n",
    "    auto_offset_reset='earliest'\n",
    ")"
   ]
  },
  {
   "cell_type": "code",
   "execution_count": null,
   "metadata": {},
   "outputs": [],
   "source": [
    "for mess in consumer_2:\n",
    "    print(mess.value)\n",
    "    print(mess.value)\n",
    "    break"
   ]
  },
  {
   "cell_type": "code",
   "execution_count": null,
   "metadata": {},
   "outputs": [],
   "source": [
    "for mess in cosumer:\n",
    "    print(mess)"
   ]
  },
  {
   "cell_type": "code",
   "execution_count": null,
   "metadata": {},
   "outputs": [],
   "source": [
    "import time\n",
    "import logging\n",
    "from bson import json_util\n",
    "def create_topic(admin, topic_name):\n",
    "    \"\"\"\n",
    "        Create topic if not exists\n",
    "    \"\"\"\n",
    "    try:\n",
    "        topic = NewTopic(name=topic_name, num_partitions=1, replication_factor=1)\n",
    "        admin.create_topic([topic])\n",
    "        logging.info(f\"A new topic {topic_name} has been created!\")\n",
    "    except Exception:\n",
    "        logging.info(f\"Topic {topic_name} already exists. Skipping creation!\")\n",
    "        pass\n",
    "\n",
    "def format_record(row):\n",
    "    taxi_res = {}\n",
    "    column_names = [\n",
    "        'dolocationid', 'pulocationid', 'ratecodeid', 'vendorid',\n",
    "        'congestion_surcharge', 'extra', 'fare_amount', 'improvement_surcharge',\n",
    "        'mta_tax', 'passenger_count', 'payment_type', 'tip_amount',\n",
    "        'tolls_amount', 'total_amount', 'dropoff_datetime', 'pickup_datetime',\n",
    "        'trip_distance'\n",
    "    ]\n",
    "    for i, column_name in enumerate(column_names):\n",
    "        if 'datetime' in column_name:\n",
    "            taxi_res[column_name] = str(row.iloc[i])\n",
    "        else:\n",
    "            taxi_res[column_name] = row.iloc[i]\n",
    "    return taxi_res\n",
    "\n",
    "\n",
    "def streaming_data(servers, DATA_PATH):\n",
    "    producer = None\n",
    "    admin = None\n",
    "    for _ in range (10): \n",
    "        try:\n",
    "            producer = KafkaProducer(bootstrap_servers=servers)\n",
    "            admin = KafkaAdminClient(bootstrap_servers=servers)\n",
    "            break\n",
    "        except Exception as e:\n",
    "            logging.info(f\"Trying to instantiate admin and producer with bosootstrap server {servers} with error {e}\")\n",
    "            time.sleep(10)\n",
    "            pass\n",
    "    \n",
    "    df = pd.read_parquet(DATA_PATH)\n",
    "    \n",
    "    for index, row in df.iterrows():\n",
    "        topic_name = \"nyc_taxi_trip\"\n",
    "        create_topic(admin, topic_name=topic_name)\n",
    "        producer.send(\n",
    "            topic_name, json.dumps(format_record(row), default=json_util.default).encode('utf-8')\n",
    "        )\n",
    "        print(f\"Sent record {index} to topic {topic_name}\")\n",
    "        time.sleep(2)\n",
    "        \n",
    "    "
   ]
  },
  {
   "cell_type": "code",
   "execution_count": null,
   "metadata": {},
   "outputs": [],
   "source": [
    "from kafka import KafkaConsumer\n",
    "BOOTSTRAP_SERVERS = ['localhost:9092']\n",
    "topic = \"test-topic\"\n",
    "\n",
    "consumer = KafkaConsumer(\n",
    "    topic,\n",
    "    bootstrap_servers=BOOTSTRAP_SERVERS,\n",
    "    auto_offset_reset='earliest',\n",
    ")\n",
    "consumer"
   ]
  },
  {
   "cell_type": "code",
   "execution_count": null,
   "metadata": {},
   "outputs": [],
   "source": [
    "for message in consumer:\n",
    "    print(message.value)"
   ]
  },
  {
   "cell_type": "code",
   "execution_count": 8,
   "metadata": {},
   "outputs": [],
   "source": [
    "consumer.close()"
   ]
  },
  {
   "cell_type": "code",
   "execution_count": null,
   "metadata": {},
   "outputs": [],
   "source": [
    "topic_streaming_1 = \"streaming.public.yellow_trip_raw\"\n",
    "topic_streaming_2 = \"streaming.public.green_trip_raw\"\n",
    "consumer_2 = KafkaConsumer(\n",
    "    topic_streaming\n",
    ")"
   ]
  },
  {
   "cell_type": "code",
   "execution_count": null,
   "metadata": {},
   "outputs": [],
   "source": [
    "consumer.topics()"
   ]
  }
 ],
 "metadata": {
  "kernelspec": {
   "display_name": "env",
   "language": "python",
   "name": "python3"
  },
  "language_info": {
   "codemirror_mode": {
    "name": "ipython",
    "version": 3
   },
   "file_extension": ".py",
   "mimetype": "text/x-python",
   "name": "python",
   "nbconvert_exporter": "python",
   "pygments_lexer": "ipython3",
   "version": "3.12.7"
  }
 },
 "nbformat": 4,
 "nbformat_minor": 2
}
