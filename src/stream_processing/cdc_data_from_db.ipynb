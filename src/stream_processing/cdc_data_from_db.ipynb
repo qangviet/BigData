{
 "cells": [
  {
   "cell_type": "code",
   "execution_count": 3,
   "metadata": {},
   "outputs": [],
   "source": [
    "from kafka import KafkaConsumer, KafkaProducer\n",
    "from kafka.admin import NewTopic\n",
    "import json\n",
    "import time\n",
    "from datetime import datetime\n",
    "import pandas as pd"
   ]
  },
  {
   "cell_type": "code",
   "execution_count": 4,
   "metadata": {},
   "outputs": [],
   "source": [
    "BOOTSTRAP_SERVERS = ['localhost:9092', 'localhost:9093', 'localhost:9094']"
   ]
  },
  {
   "cell_type": "code",
   "execution_count": 5,
   "metadata": {},
   "outputs": [
    {
     "data": {
      "text/plain": [
       "{'_confluent-command',\n",
       " '_confluent-controlcenter-7-7-1-1-AlertHistoryStore-changelog',\n",
       " '_confluent-controlcenter-7-7-1-1-AlertHistoryStore-repartition',\n",
       " '_confluent-controlcenter-7-7-1-1-Group-ONE_MINUTE-changelog',\n",
       " '_confluent-controlcenter-7-7-1-1-Group-ONE_MINUTE-repartition',\n",
       " '_confluent-controlcenter-7-7-1-1-Group-THREE_HOURS-changelog',\n",
       " '_confluent-controlcenter-7-7-1-1-Group-THREE_HOURS-repartition',\n",
       " '_confluent-controlcenter-7-7-1-1-KSTREAM-OUTEROTHER-0000000106-store-changelog',\n",
       " '_confluent-controlcenter-7-7-1-1-KSTREAM-OUTEROTHER-0000000106-store-repartition',\n",
       " '_confluent-controlcenter-7-7-1-1-KSTREAM-OUTERTHIS-0000000105-store-changelog',\n",
       " '_confluent-controlcenter-7-7-1-1-KSTREAM-OUTERTHIS-0000000105-store-repartition',\n",
       " '_confluent-controlcenter-7-7-1-1-MetricsAggregateStore-changelog',\n",
       " '_confluent-controlcenter-7-7-1-1-MetricsAggregateStore-repartition',\n",
       " '_confluent-controlcenter-7-7-1-1-MonitoringMessageAggregatorWindows-ONE_MINUTE-changelog',\n",
       " '_confluent-controlcenter-7-7-1-1-MonitoringMessageAggregatorWindows-ONE_MINUTE-repartition',\n",
       " '_confluent-controlcenter-7-7-1-1-MonitoringMessageAggregatorWindows-THREE_HOURS-changelog',\n",
       " '_confluent-controlcenter-7-7-1-1-MonitoringMessageAggregatorWindows-THREE_HOURS-repartition',\n",
       " '_confluent-controlcenter-7-7-1-1-MonitoringStream-ONE_MINUTE-changelog',\n",
       " '_confluent-controlcenter-7-7-1-1-MonitoringStream-ONE_MINUTE-repartition',\n",
       " '_confluent-controlcenter-7-7-1-1-MonitoringStream-THREE_HOURS-changelog',\n",
       " '_confluent-controlcenter-7-7-1-1-MonitoringStream-THREE_HOURS-repartition',\n",
       " '_confluent-controlcenter-7-7-1-1-MonitoringTriggerStore-changelog',\n",
       " '_confluent-controlcenter-7-7-1-1-MonitoringTriggerStore-repartition',\n",
       " '_confluent-controlcenter-7-7-1-1-MonitoringVerifierStore-changelog',\n",
       " '_confluent-controlcenter-7-7-1-1-MonitoringVerifierStore-repartition',\n",
       " '_confluent-controlcenter-7-7-1-1-TriggerActionsStore-changelog',\n",
       " '_confluent-controlcenter-7-7-1-1-TriggerActionsStore-repartition',\n",
       " '_confluent-controlcenter-7-7-1-1-TriggerEventsStore-changelog',\n",
       " '_confluent-controlcenter-7-7-1-1-TriggerEventsStore-repartition',\n",
       " '_confluent-controlcenter-7-7-1-1-actual-group-consumption-rekey',\n",
       " '_confluent-controlcenter-7-7-1-1-aggregate-topic-partition-store-changelog',\n",
       " '_confluent-controlcenter-7-7-1-1-aggregate-topic-partition-store-repartition',\n",
       " '_confluent-controlcenter-7-7-1-1-aggregatedTopicPartitionTableWindows-ONE_MINUTE-changelog',\n",
       " '_confluent-controlcenter-7-7-1-1-aggregatedTopicPartitionTableWindows-ONE_MINUTE-repartition',\n",
       " '_confluent-controlcenter-7-7-1-1-aggregatedTopicPartitionTableWindows-THREE_HOURS-changelog',\n",
       " '_confluent-controlcenter-7-7-1-1-aggregatedTopicPartitionTableWindows-THREE_HOURS-repartition',\n",
       " '_confluent-controlcenter-7-7-1-1-cluster-rekey',\n",
       " '_confluent-controlcenter-7-7-1-1-expected-group-consumption-rekey',\n",
       " '_confluent-controlcenter-7-7-1-1-group-aggregate-store-ONE_MINUTE-changelog',\n",
       " '_confluent-controlcenter-7-7-1-1-group-aggregate-store-ONE_MINUTE-repartition',\n",
       " '_confluent-controlcenter-7-7-1-1-group-aggregate-store-THREE_HOURS-changelog',\n",
       " '_confluent-controlcenter-7-7-1-1-group-aggregate-store-THREE_HOURS-repartition',\n",
       " '_confluent-controlcenter-7-7-1-1-group-stream-extension-rekey',\n",
       " '_confluent-controlcenter-7-7-1-1-metrics-trigger-measurement-rekey',\n",
       " '_confluent-controlcenter-7-7-1-1-monitoring-aggregate-rekey-store-changelog',\n",
       " '_confluent-controlcenter-7-7-1-1-monitoring-aggregate-rekey-store-repartition',\n",
       " '_confluent-controlcenter-7-7-1-1-monitoring-message-rekey-store',\n",
       " '_confluent-controlcenter-7-7-1-1-monitoring-trigger-event-rekey',\n",
       " '_confluent-metrics',\n",
       " '_confluent-monitoring',\n",
       " 'connect_configs',\n",
       " 'connect_offsets',\n",
       " 'connect_status',\n",
       " 'streaming.public.green_trip_raw',\n",
       " 'streaming.public.yellow_trip_raw'}"
      ]
     },
     "execution_count": 5,
     "metadata": {},
     "output_type": "execute_result"
    }
   ],
   "source": [
    "cosumer = KafkaConsumer(bootstrap_servers=BOOTSTRAP_SERVERS)\n",
    "cosumer.topics()"
   ]
  },
  {
   "cell_type": "code",
   "execution_count": 7,
   "metadata": {},
   "outputs": [],
   "source": [
    "consumer_2 = KafkaConsumer(\n",
    "    'streaming.public.green_trip_raw',  # tên topic\n",
    "    bootstrap_servers=BOOTSTRAP_SERVERS,\n",
    "    auto_offset_reset='earliest'\n",
    ")"
   ]
  },
  {
   "cell_type": "code",
   "execution_count": 8,
   "metadata": {},
   "outputs": [
    {
     "name": "stdout",
     "output_type": "stream",
     "text": [
      "b'{\"schema\":{\"type\":\"struct\",\"fields\":[{\"type\":\"struct\",\"fields\":[{\"type\":\"int32\",\"optional\":true,\"field\":\"vendorid\"},{\"type\":\"int64\",\"optional\":false,\"name\":\"io.debezium.time.MicroTimestamp\",\"version\":1,\"field\":\"lpep_pickup_datetime\"},{\"type\":\"int64\",\"optional\":false,\"name\":\"io.debezium.time.MicroTimestamp\",\"version\":1,\"field\":\"lpep_dropoff_datetime\"},{\"type\":\"string\",\"optional\":true,\"field\":\"store_and_fwd_flag\"},{\"type\":\"double\",\"optional\":true,\"field\":\"ratecodeid\"},{\"type\":\"int32\",\"optional\":true,\"field\":\"pulocationid\"},{\"type\":\"int32\",\"optional\":true,\"field\":\"dolocationid\"},{\"type\":\"double\",\"optional\":true,\"field\":\"passenger_count\"},{\"type\":\"double\",\"optional\":true,\"field\":\"trip_distance\"},{\"type\":\"double\",\"optional\":true,\"field\":\"fare_amount\"},{\"type\":\"double\",\"optional\":true,\"field\":\"extra\"},{\"type\":\"double\",\"optional\":true,\"field\":\"mta_tax\"},{\"type\":\"double\",\"optional\":true,\"field\":\"tip_amount\"},{\"type\":\"double\",\"optional\":true,\"field\":\"tolls_amount\"},{\"type\":\"double\",\"optional\":true,\"field\":\"ehail_fee\"},{\"type\":\"double\",\"optional\":true,\"field\":\"improvement_surcharge\"},{\"type\":\"double\",\"optional\":true,\"field\":\"total_amount\"},{\"type\":\"double\",\"optional\":true,\"field\":\"payment_type\"},{\"type\":\"double\",\"optional\":true,\"field\":\"trip_type\"},{\"type\":\"double\",\"optional\":true,\"field\":\"congestion_surcharge\"}],\"optional\":true,\"name\":\"streaming.public.green_trip_raw.Value\",\"field\":\"before\"},{\"type\":\"struct\",\"fields\":[{\"type\":\"int32\",\"optional\":true,\"field\":\"vendorid\"},{\"type\":\"int64\",\"optional\":false,\"name\":\"io.debezium.time.MicroTimestamp\",\"version\":1,\"field\":\"lpep_pickup_datetime\"},{\"type\":\"int64\",\"optional\":false,\"name\":\"io.debezium.time.MicroTimestamp\",\"version\":1,\"field\":\"lpep_dropoff_datetime\"},{\"type\":\"string\",\"optional\":true,\"field\":\"store_and_fwd_flag\"},{\"type\":\"double\",\"optional\":true,\"field\":\"ratecodeid\"},{\"type\":\"int32\",\"optional\":true,\"field\":\"pulocationid\"},{\"type\":\"int32\",\"optional\":true,\"field\":\"dolocationid\"},{\"type\":\"double\",\"optional\":true,\"field\":\"passenger_count\"},{\"type\":\"double\",\"optional\":true,\"field\":\"trip_distance\"},{\"type\":\"double\",\"optional\":true,\"field\":\"fare_amount\"},{\"type\":\"double\",\"optional\":true,\"field\":\"extra\"},{\"type\":\"double\",\"optional\":true,\"field\":\"mta_tax\"},{\"type\":\"double\",\"optional\":true,\"field\":\"tip_amount\"},{\"type\":\"double\",\"optional\":true,\"field\":\"tolls_amount\"},{\"type\":\"double\",\"optional\":true,\"field\":\"ehail_fee\"},{\"type\":\"double\",\"optional\":true,\"field\":\"improvement_surcharge\"},{\"type\":\"double\",\"optional\":true,\"field\":\"total_amount\"},{\"type\":\"double\",\"optional\":true,\"field\":\"payment_type\"},{\"type\":\"double\",\"optional\":true,\"field\":\"trip_type\"},{\"type\":\"double\",\"optional\":true,\"field\":\"congestion_surcharge\"}],\"optional\":true,\"name\":\"streaming.public.green_trip_raw.Value\",\"field\":\"after\"},{\"type\":\"struct\",\"fields\":[{\"type\":\"string\",\"optional\":false,\"field\":\"version\"},{\"type\":\"string\",\"optional\":false,\"field\":\"connector\"},{\"type\":\"string\",\"optional\":false,\"field\":\"name\"},{\"type\":\"int64\",\"optional\":false,\"field\":\"ts_ms\"},{\"type\":\"string\",\"optional\":true,\"name\":\"io.debezium.data.Enum\",\"version\":1,\"parameters\":{\"allowed\":\"true,last,false,incremental\"},\"default\":\"false\",\"field\":\"snapshot\"},{\"type\":\"string\",\"optional\":false,\"field\":\"db\"},{\"type\":\"string\",\"optional\":true,\"field\":\"sequence\"},{\"type\":\"int64\",\"optional\":true,\"field\":\"ts_us\"},{\"type\":\"int64\",\"optional\":true,\"field\":\"ts_ns\"},{\"type\":\"string\",\"optional\":false,\"field\":\"schema\"},{\"type\":\"string\",\"optional\":false,\"field\":\"table\"},{\"type\":\"int64\",\"optional\":true,\"field\":\"txId\"},{\"type\":\"int64\",\"optional\":true,\"field\":\"lsn\"},{\"type\":\"int64\",\"optional\":true,\"field\":\"xmin\"}],\"optional\":false,\"name\":\"io.debezium.connector.postgresql.Source\",\"field\":\"source\"},{\"type\":\"struct\",\"fields\":[{\"type\":\"string\",\"optional\":false,\"field\":\"id\"},{\"type\":\"int64\",\"optional\":false,\"field\":\"total_order\"},{\"type\":\"int64\",\"optional\":false,\"field\":\"data_collection_order\"}],\"optional\":true,\"name\":\"event.block\",\"version\":1,\"field\":\"transaction\"},{\"type\":\"string\",\"optional\":false,\"field\":\"op\"},{\"type\":\"int64\",\"optional\":true,\"field\":\"ts_ms\"},{\"type\":\"int64\",\"optional\":true,\"field\":\"ts_us\"},{\"type\":\"int64\",\"optional\":true,\"field\":\"ts_ns\"}],\"optional\":false,\"name\":\"streaming.public.green_trip_raw.Envelope\",\"version\":2},\"payload\":{\"before\":null,\"after\":{\"vendorid\":2,\"lpep_pickup_datetime\":1704070015000000,\"lpep_dropoff_datetime\":1704070705000000,\"store_and_fwd_flag\":\"N\",\"ratecodeid\":1.0,\"pulocationid\":236,\"dolocationid\":239,\"passenger_count\":1.0,\"trip_distance\":1.98,\"fare_amount\":12.8,\"extra\":1.0,\"mta_tax\":0.5,\"tip_amount\":3.61,\"tolls_amount\":0.0,\"ehail_fee\":\"NaN\",\"improvement_surcharge\":1.0,\"total_amount\":21.66,\"payment_type\":1.0,\"trip_type\":1.0,\"congestion_surcharge\":2.75},\"source\":{\"version\":\"2.7.3.Final\",\"connector\":\"postgresql\",\"name\":\"streaming\",\"ts_ms\":1733910249053,\"snapshot\":\"first_in_data_collection\",\"db\":\"streaming_db\",\"sequence\":\"[null,\\\\\"28048624\\\\\"]\",\"ts_us\":1733910249053471,\"ts_ns\":1733910249053471000,\"schema\":\"public\",\"table\":\"green_trip_raw\",\"txId\":781,\"lsn\":28048624,\"xmin\":null},\"transaction\":null,\"op\":\"r\",\"ts_ms\":1733910249229,\"ts_us\":1733910249229742,\"ts_ns\":1733910249229742330}}'\n"
     ]
    }
   ],
   "source": [
    "for message in consumer_2:\n",
    "    print(message.value)\n",
    "    break"
   ]
  },
  {
   "cell_type": "code",
   "execution_count": 9,
   "metadata": {},
   "outputs": [],
   "source": [
    "consumer_2.close()"
   ]
  },
  {
   "cell_type": "code",
   "execution_count": null,
   "metadata": {},
   "outputs": [],
   "source": [
    "topic_streaming_1 = \"streaming.public.yellow_trip_raw\"\n",
    "topic_streaming_2 = \"streaming.public.green_trip_raw\"\n",
    "consumer_2 = KafkaConsumer(\n",
    "    topic_streaming_1,\n",
    "    topic_streaming_2,\n",
    "    bootstrap_servers=BOOTSTRAP_SERVERS,\n",
    "    auto_offset_reset='earliest',\n",
    "    value_deserializer=lambda x: json.loads(x.decode('utf-8'))\n",
    ")"
   ]
  },
  {
   "cell_type": "code",
   "execution_count": null,
   "metadata": {},
   "outputs": [],
   "source": [
    "data = []"
   ]
  },
  {
   "cell_type": "code",
   "execution_count": null,
   "metadata": {},
   "outputs": [],
   "source": [
    "for message in consumer_2:\n",
    "    print(message.value)\n",
    "    data.append(message.value)"
   ]
  },
  {
   "cell_type": "code",
   "execution_count": 25,
   "metadata": {},
   "outputs": [
    {
     "data": {
      "text/plain": [
       "dict_keys(['schema', 'payload'])"
      ]
     },
     "execution_count": 25,
     "metadata": {},
     "output_type": "execute_result"
    }
   ],
   "source": [
    "data[0].keys()"
   ]
  },
  {
   "cell_type": "code",
   "execution_count": 27,
   "metadata": {},
   "outputs": [
    {
     "data": {
      "text/plain": [
       "{'type': 'struct',\n",
       " 'fields': [{'type': 'struct',\n",
       "   'fields': [{'type': 'int32', 'optional': True, 'field': 'vendorid'},\n",
       "    {'type': 'int64',\n",
       "     'optional': False,\n",
       "     'name': 'io.debezium.time.MicroTimestamp',\n",
       "     'version': 1,\n",
       "     'field': 'lpep_pickup_datetime'},\n",
       "    {'type': 'int64',\n",
       "     'optional': False,\n",
       "     'name': 'io.debezium.time.MicroTimestamp',\n",
       "     'version': 1,\n",
       "     'field': 'lpep_dropoff_datetime'},\n",
       "    {'type': 'string', 'optional': True, 'field': 'store_and_fwd_flag'},\n",
       "    {'type': 'double', 'optional': True, 'field': 'ratecodeid'},\n",
       "    {'type': 'int32', 'optional': True, 'field': 'pulocationid'},\n",
       "    {'type': 'int32', 'optional': True, 'field': 'dolocationid'},\n",
       "    {'type': 'double', 'optional': True, 'field': 'passenger_count'},\n",
       "    {'type': 'double', 'optional': True, 'field': 'trip_distance'},\n",
       "    {'type': 'double', 'optional': True, 'field': 'fare_amount'},\n",
       "    {'type': 'double', 'optional': True, 'field': 'extra'},\n",
       "    {'type': 'double', 'optional': True, 'field': 'mta_tax'},\n",
       "    {'type': 'double', 'optional': True, 'field': 'tip_amount'},\n",
       "    {'type': 'double', 'optional': True, 'field': 'tolls_amount'},\n",
       "    {'type': 'double', 'optional': True, 'field': 'ehail_fee'},\n",
       "    {'type': 'double', 'optional': True, 'field': 'improvement_surcharge'},\n",
       "    {'type': 'double', 'optional': True, 'field': 'total_amount'},\n",
       "    {'type': 'double', 'optional': True, 'field': 'payment_type'},\n",
       "    {'type': 'double', 'optional': True, 'field': 'trip_type'},\n",
       "    {'type': 'double', 'optional': True, 'field': 'congestion_surcharge'}],\n",
       "   'optional': True,\n",
       "   'name': 'streaming.public.green_trip_raw.Value',\n",
       "   'field': 'before'},\n",
       "  {'type': 'struct',\n",
       "   'fields': [{'type': 'int32', 'optional': True, 'field': 'vendorid'},\n",
       "    {'type': 'int64',\n",
       "     'optional': False,\n",
       "     'name': 'io.debezium.time.MicroTimestamp',\n",
       "     'version': 1,\n",
       "     'field': 'lpep_pickup_datetime'},\n",
       "    {'type': 'int64',\n",
       "     'optional': False,\n",
       "     'name': 'io.debezium.time.MicroTimestamp',\n",
       "     'version': 1,\n",
       "     'field': 'lpep_dropoff_datetime'},\n",
       "    {'type': 'string', 'optional': True, 'field': 'store_and_fwd_flag'},\n",
       "    {'type': 'double', 'optional': True, 'field': 'ratecodeid'},\n",
       "    {'type': 'int32', 'optional': True, 'field': 'pulocationid'},\n",
       "    {'type': 'int32', 'optional': True, 'field': 'dolocationid'},\n",
       "    {'type': 'double', 'optional': True, 'field': 'passenger_count'},\n",
       "    {'type': 'double', 'optional': True, 'field': 'trip_distance'},\n",
       "    {'type': 'double', 'optional': True, 'field': 'fare_amount'},\n",
       "    {'type': 'double', 'optional': True, 'field': 'extra'},\n",
       "    {'type': 'double', 'optional': True, 'field': 'mta_tax'},\n",
       "    {'type': 'double', 'optional': True, 'field': 'tip_amount'},\n",
       "    {'type': 'double', 'optional': True, 'field': 'tolls_amount'},\n",
       "    {'type': 'double', 'optional': True, 'field': 'ehail_fee'},\n",
       "    {'type': 'double', 'optional': True, 'field': 'improvement_surcharge'},\n",
       "    {'type': 'double', 'optional': True, 'field': 'total_amount'},\n",
       "    {'type': 'double', 'optional': True, 'field': 'payment_type'},\n",
       "    {'type': 'double', 'optional': True, 'field': 'trip_type'},\n",
       "    {'type': 'double', 'optional': True, 'field': 'congestion_surcharge'}],\n",
       "   'optional': True,\n",
       "   'name': 'streaming.public.green_trip_raw.Value',\n",
       "   'field': 'after'},\n",
       "  {'type': 'struct',\n",
       "   'fields': [{'type': 'string', 'optional': False, 'field': 'version'},\n",
       "    {'type': 'string', 'optional': False, 'field': 'connector'},\n",
       "    {'type': 'string', 'optional': False, 'field': 'name'},\n",
       "    {'type': 'int64', 'optional': False, 'field': 'ts_ms'},\n",
       "    {'type': 'string',\n",
       "     'optional': True,\n",
       "     'name': 'io.debezium.data.Enum',\n",
       "     'version': 1,\n",
       "     'parameters': {'allowed': 'true,last,false,incremental'},\n",
       "     'default': 'false',\n",
       "     'field': 'snapshot'},\n",
       "    {'type': 'string', 'optional': False, 'field': 'db'},\n",
       "    {'type': 'string', 'optional': True, 'field': 'sequence'},\n",
       "    {'type': 'int64', 'optional': True, 'field': 'ts_us'},\n",
       "    {'type': 'int64', 'optional': True, 'field': 'ts_ns'},\n",
       "    {'type': 'string', 'optional': False, 'field': 'schema'},\n",
       "    {'type': 'string', 'optional': False, 'field': 'table'},\n",
       "    {'type': 'int64', 'optional': True, 'field': 'txId'},\n",
       "    {'type': 'int64', 'optional': True, 'field': 'lsn'},\n",
       "    {'type': 'int64', 'optional': True, 'field': 'xmin'}],\n",
       "   'optional': False,\n",
       "   'name': 'io.debezium.connector.postgresql.Source',\n",
       "   'field': 'source'},\n",
       "  {'type': 'struct',\n",
       "   'fields': [{'type': 'string', 'optional': False, 'field': 'id'},\n",
       "    {'type': 'int64', 'optional': False, 'field': 'total_order'},\n",
       "    {'type': 'int64', 'optional': False, 'field': 'data_collection_order'}],\n",
       "   'optional': True,\n",
       "   'name': 'event.block',\n",
       "   'version': 1,\n",
       "   'field': 'transaction'},\n",
       "  {'type': 'string', 'optional': False, 'field': 'op'},\n",
       "  {'type': 'int64', 'optional': True, 'field': 'ts_ms'},\n",
       "  {'type': 'int64', 'optional': True, 'field': 'ts_us'},\n",
       "  {'type': 'int64', 'optional': True, 'field': 'ts_ns'}],\n",
       " 'optional': False,\n",
       " 'name': 'streaming.public.green_trip_raw.Envelope',\n",
       " 'version': 2}"
      ]
     },
     "execution_count": 27,
     "metadata": {},
     "output_type": "execute_result"
    }
   ],
   "source": [
    "data[0][\"schema\"]"
   ]
  },
  {
   "cell_type": "code",
   "execution_count": 28,
   "metadata": {},
   "outputs": [
    {
     "data": {
      "text/plain": [
       "{'before': None,\n",
       " 'after': {'vendorid': 2,\n",
       "  'lpep_pickup_datetime': 1704070892000000,\n",
       "  'lpep_dropoff_datetime': 1704071741000000,\n",
       "  'store_and_fwd_flag': 'N',\n",
       "  'ratecodeid': 5.0,\n",
       "  'pulocationid': 66,\n",
       "  'dolocationid': 256,\n",
       "  'passenger_count': 2.0,\n",
       "  'trip_distance': 2.81,\n",
       "  'fare_amount': 25.0,\n",
       "  'extra': 0.0,\n",
       "  'mta_tax': 0.0,\n",
       "  'tip_amount': 5.2,\n",
       "  'tolls_amount': 0.0,\n",
       "  'ehail_fee': 'NaN',\n",
       "  'improvement_surcharge': 1.0,\n",
       "  'total_amount': 31.2,\n",
       "  'payment_type': 1.0,\n",
       "  'trip_type': 2.0,\n",
       "  'congestion_surcharge': 0.0},\n",
       " 'source': {'version': '2.7.3.Final',\n",
       "  'connector': 'postgresql',\n",
       "  'name': 'streaming',\n",
       "  'ts_ms': 1732464610536,\n",
       "  'snapshot': 'false',\n",
       "  'db': 'streaming_db',\n",
       "  'sequence': '[\"28030032\",\"28030088\"]',\n",
       "  'ts_us': 1732464610536260,\n",
       "  'ts_ns': 1732464610536260000,\n",
       "  'schema': 'public',\n",
       "  'table': 'green_trip_raw',\n",
       "  'txId': 780,\n",
       "  'lsn': 28030088,\n",
       "  'xmin': None},\n",
       " 'transaction': None,\n",
       " 'op': 'c',\n",
       " 'ts_ms': 1732464610537,\n",
       " 'ts_us': 1732464610537677,\n",
       " 'ts_ns': 1732464610537677050}"
      ]
     },
     "execution_count": 28,
     "metadata": {},
     "output_type": "execute_result"
    }
   ],
   "source": [
    "data[0][\"payload\"]"
   ]
  },
  {
   "cell_type": "code",
   "execution_count": null,
   "metadata": {},
   "outputs": [],
   "source": []
  },
  {
   "cell_type": "code",
   "execution_count": null,
   "metadata": {},
   "outputs": [],
   "source": [
    "consumer.topics()"
   ]
  }
 ],
 "metadata": {
  "kernelspec": {
   "display_name": "env",
   "language": "python",
   "name": "python3"
  },
  "language_info": {
   "codemirror_mode": {
    "name": "ipython",
    "version": 3
   },
   "file_extension": ".py",
   "mimetype": "text/x-python",
   "name": "python",
   "nbconvert_exporter": "python",
   "pygments_lexer": "ipython3",
   "version": "3.12.7"
  }
 },
 "nbformat": 4,
 "nbformat_minor": 2
}
